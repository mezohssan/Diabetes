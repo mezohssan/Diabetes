{
 "cells": [
  {
   "cell_type": "markdown",
   "id": "8415e4aa",
   "metadata": {},
   "source": [
    "# ------------------ '(Diabetes prediction)' ---------------------\n",
    "### data link : \"https://www.kaggle.com/datasets/iammustafatz/diabetes-prediction-dataset/data\"\n",
    "# Project steps \n",
    "### 1) Understanding Data \n",
    "* a- Understand Columns\n",
    "* b- check dtype \n",
    "* c- Describe Numerical Cols\n",
    "* d- Describe Categorical Cols\n",
    "* e- Catching any error\n",
    "### 2) Data Cleaning \"Handling any error\" \n",
    "### 3) EXTRACT FEATURES + EDA (\"Univariate Analysis\" , \"Bivariate Analysis\") \n",
    "### 4) Pre-Processing Mind Map:\n",
    "* a- Detect & Handle Duplicates\n",
    "* b- train_test_split\n",
    "* c- Detect & Handle NaNs\n",
    "* d- Detect & Handle Outliers\n",
    "* e- Encoding: (Ordinal:[OrdinalEncoder, LabelEncoder] - Nominal: [< 7 uniques(OneHotEncoding), > 7 uniques (BinaryEncoder)])\n",
    "* f- Imbalanced: X_train_resampled\n",
    "* g- Scaling: StandardScaler, MinMaxScaler, RobustScaler: X_train_resampled_scaled\n",
    "\n",
    "#### 5) Modeling\n",
    "\n",
    "* 1) Simple Model & Evaluate it's Performance\n",
    "* 2) Bias vs Variance (Underfitting vs Overfitting)\n",
    "* 3) GridSearch\n",
    "* 4) Test Perforamnce\n",
    "* 5) Save Model"
   ]
  },
  {
   "cell_type": "code",
   "execution_count": 1,
   "id": "e1b8627e",
   "metadata": {},
   "outputs": [],
   "source": [
    "# 📦 Data analysis and visualization libraries\n",
    "import pandas as pd                            # For data loading and manipulation\n",
    "import numpy as np                             # For numerical computations\n",
    "import matplotlib.pyplot as plt                # For basic plotting\n",
    "import seaborn as sns                          # For statistical plots\n",
    "import plotly.express as px                    # For quick interactive plots\n",
    "from plotly.subplots import make_subplots      # For subplotting in Plotly\n",
    "\n",
    "# 🧹 Data preprocessing and cleaning\n",
    "from datasist.structdata import detect_outliers        # To detect outliers in data\n",
    "from sklearn.impute import SimpleImputer              # For missing value imputation (simple methods)\n",
    "from sklearn.impute import KNNImputer                 # For missing value imputation (KNN-based)\n",
    "from sklearn.preprocessing import RobustScaler        # For scaling features robust to outliers\n",
    "from sklearn.preprocessing import OneHotEncoder       # For encoding categorical features\n",
    "from sklearn.compose import ColumnTransformer         # For applying transformers to specific columns\n",
    "\n",
    "# ⚖️ Handling imbalanced data\n",
    "from imblearn.over_sampling import SMOTE              # For oversampling minority class\n",
    "from imblearn.under_sampling import RandomUnderSampler  # For undersampling majority class\n",
    "from imblearn.pipeline import Pipeline                # Pipeline supporting sampling steps\n",
    "\n",
    "# 🧪 Data splitting and cross-validation\n",
    "from sklearn.model_selection import train_test_split      # For splitting data into train and test sets\n",
    "from sklearn.model_selection import StratifiedKFold       # For stratified K-Fold cross-validation\n",
    "from sklearn.model_selection import cross_val_score, cross_val_predict  # For cross-validation\n",
    "\n",
    "# 🧮 Classification models\n",
    "from sklearn.linear_model import LogisticRegression       # Logistic Regression model\n",
    "from sklearn.svm import SVC                               # Support Vector Machine model\n",
    "from sklearn.neighbors import KNeighborsClassifier        # K-Nearest Neighbors model\n",
    "from sklearn.tree import DecisionTreeClassifier           # Decision Tree model\n",
    "from sklearn.ensemble import RandomForestClassifier       # Random Forest model\n",
    "from sklearn.ensemble import GradientBoostingClassifier   # Gradient Boosting model\n",
    "from sklearn.ensemble import HistGradientBoostingClassifier  # Fast version of Gradient Boosting\n",
    "from xgboost import XGBClassifier                         # XGBoost model\n",
    "from catboost import CatBoostClassifier                   # CatBoost model\n",
    "\n",
    "# 🔍 Model evaluation and tuning\n",
    "from sklearn.model_selection import GridSearchCV          # For hyperparameter tuning\n",
    "from sklearn.metrics import accuracy_score                # For calculating accuracy\n",
    "from sklearn.metrics import classification_report         # For detailed classification performance\n",
    "from sklearn.metrics import confusion_matrix              # For generating confusion matrix\n",
    "\n",
    "# 💾 Saving and loading models\n",
    "import joblib    "
   ]
  },
  {
   "cell_type": "markdown",
   "id": "6537e560",
   "metadata": {},
   "source": [
    "### 1) Understanding Data \n",
    "* a- Understand Columns\n",
    "* b- check dtype \n",
    "* c- Describe Numerical Cols\n",
    "* d- Describe Categorical Cols\n",
    "* e- Catching any error"
   ]
  },
  {
   "cell_type": "code",
   "execution_count": 2,
   "id": "7898d0c1",
   "metadata": {},
   "outputs": [
    {
     "data": {
      "text/html": [
       "<div>\n",
       "<style scoped>\n",
       "    .dataframe tbody tr th:only-of-type {\n",
       "        vertical-align: middle;\n",
       "    }\n",
       "\n",
       "    .dataframe tbody tr th {\n",
       "        vertical-align: top;\n",
       "    }\n",
       "\n",
       "    .dataframe thead th {\n",
       "        text-align: right;\n",
       "    }\n",
       "</style>\n",
       "<table border=\"1\" class=\"dataframe\">\n",
       "  <thead>\n",
       "    <tr style=\"text-align: right;\">\n",
       "      <th></th>\n",
       "      <th>gender</th>\n",
       "      <th>age</th>\n",
       "      <th>hypertension</th>\n",
       "      <th>heart_disease</th>\n",
       "      <th>smoking_history</th>\n",
       "      <th>bmi</th>\n",
       "      <th>HbA1c_level</th>\n",
       "      <th>blood_glucose_level</th>\n",
       "      <th>diabetes</th>\n",
       "    </tr>\n",
       "  </thead>\n",
       "  <tbody>\n",
       "    <tr>\n",
       "      <th>0</th>\n",
       "      <td>Female</td>\n",
       "      <td>80.0</td>\n",
       "      <td>0</td>\n",
       "      <td>1</td>\n",
       "      <td>never</td>\n",
       "      <td>25.19</td>\n",
       "      <td>6.6</td>\n",
       "      <td>140</td>\n",
       "      <td>0</td>\n",
       "    </tr>\n",
       "    <tr>\n",
       "      <th>1</th>\n",
       "      <td>Female</td>\n",
       "      <td>54.0</td>\n",
       "      <td>0</td>\n",
       "      <td>0</td>\n",
       "      <td>No Info</td>\n",
       "      <td>27.32</td>\n",
       "      <td>6.6</td>\n",
       "      <td>80</td>\n",
       "      <td>0</td>\n",
       "    </tr>\n",
       "    <tr>\n",
       "      <th>2</th>\n",
       "      <td>Male</td>\n",
       "      <td>28.0</td>\n",
       "      <td>0</td>\n",
       "      <td>0</td>\n",
       "      <td>never</td>\n",
       "      <td>27.32</td>\n",
       "      <td>5.7</td>\n",
       "      <td>158</td>\n",
       "      <td>0</td>\n",
       "    </tr>\n",
       "  </tbody>\n",
       "</table>\n",
       "</div>"
      ],
      "text/plain": [
       "   gender   age  hypertension  heart_disease smoking_history    bmi  \\\n",
       "0  Female  80.0             0              1           never  25.19   \n",
       "1  Female  54.0             0              0         No Info  27.32   \n",
       "2    Male  28.0             0              0           never  27.32   \n",
       "\n",
       "   HbA1c_level  blood_glucose_level  diabetes  \n",
       "0          6.6                  140         0  \n",
       "1          6.6                   80         0  \n",
       "2          5.7                  158         0  "
      ]
     },
     "execution_count": 2,
     "metadata": {},
     "output_type": "execute_result"
    }
   ],
   "source": [
    "df = pd.read_csv(\"diabetes_prediction_dataset.csv\")\n",
    "df.head(3)"
   ]
  },
  {
   "cell_type": "code",
   "execution_count": 67,
   "id": "9017c200",
   "metadata": {},
   "outputs": [],
   "source": [
    "# a- Understand Columns\n",
    "\n",
    "# gender => The person's gender\n",
    "# age => The person's age\n",
    "# hypertension => If the person has high blood pressure. 0 means No - 1 means Yes\n",
    "# heart_disease => If the person has any heart disease. 0 means No - 1 means Yes\n",
    "# smoking_history=> Shows if the person has smoked before or still smokes.\n",
    "        # 1- \"current\" = بيدخن حاليًا\n",
    "        # 2- \"not current\" = بطل التدخين من قريب\n",
    "        # 3- \"former\" = بطل التدخين من زمان\n",
    "        # 4- \"ever\" = دخن في أي وقت (سواء بيدخن دلوقتي أو بطل)\n",
    "        # 5- \"never\" = عمره ما دخن\n",
    "        # 6- \"No Info\" = مفيش بيانات\n",
    "\n",
    "\n",
    "# bmi => The person's Body Mass Index .\n",
    "# HbA1c_level => The person's HbA1c level.\n",
    "# blood_glucose_level => The person's blood sugar level at the moment.\n",
    "# diabetes => If the person has diabetes."
   ]
  },
  {
   "cell_type": "code",
   "execution_count": 68,
   "id": "43515cef",
   "metadata": {},
   "outputs": [
    {
     "name": "stdout",
     "output_type": "stream",
     "text": [
      "<class 'pandas.core.frame.DataFrame'>\n",
      "RangeIndex: 100000 entries, 0 to 99999\n",
      "Data columns (total 9 columns):\n",
      " #   Column               Non-Null Count   Dtype  \n",
      "---  ------               --------------   -----  \n",
      " 0   gender               100000 non-null  object \n",
      " 1   age                  100000 non-null  float64\n",
      " 2   hypertension         100000 non-null  int64  \n",
      " 3   heart_disease        100000 non-null  int64  \n",
      " 4   smoking_history      100000 non-null  object \n",
      " 5   bmi                  100000 non-null  float64\n",
      " 6   HbA1c_level          100000 non-null  float64\n",
      " 7   blood_glucose_level  100000 non-null  int64  \n",
      " 8   diabetes             100000 non-null  int64  \n",
      "dtypes: float64(3), int64(4), object(2)\n",
      "memory usage: 6.9+ MB\n"
     ]
    }
   ],
   "source": [
    "# b- check dtype \n",
    "df.info()\n",
    "# i don't have null \n",
    "# Dtypes are true "
   ]
  },
  {
   "cell_type": "code",
   "execution_count": 69,
   "id": "ff2500a5",
   "metadata": {},
   "outputs": [
    {
     "data": {
      "text/html": [
       "<div>\n",
       "<style scoped>\n",
       "    .dataframe tbody tr th:only-of-type {\n",
       "        vertical-align: middle;\n",
       "    }\n",
       "\n",
       "    .dataframe tbody tr th {\n",
       "        vertical-align: top;\n",
       "    }\n",
       "\n",
       "    .dataframe thead th {\n",
       "        text-align: right;\n",
       "    }\n",
       "</style>\n",
       "<table border=\"1\" class=\"dataframe\">\n",
       "  <thead>\n",
       "    <tr style=\"text-align: right;\">\n",
       "      <th></th>\n",
       "      <th>age</th>\n",
       "      <th>hypertension</th>\n",
       "      <th>heart_disease</th>\n",
       "      <th>bmi</th>\n",
       "      <th>HbA1c_level</th>\n",
       "      <th>blood_glucose_level</th>\n",
       "      <th>diabetes</th>\n",
       "    </tr>\n",
       "  </thead>\n",
       "  <tbody>\n",
       "    <tr>\n",
       "      <th>count</th>\n",
       "      <td>100000.000000</td>\n",
       "      <td>100000.00000</td>\n",
       "      <td>100000.000000</td>\n",
       "      <td>100000.000000</td>\n",
       "      <td>100000.000000</td>\n",
       "      <td>100000.000000</td>\n",
       "      <td>100000.000000</td>\n",
       "    </tr>\n",
       "    <tr>\n",
       "      <th>mean</th>\n",
       "      <td>41.885856</td>\n",
       "      <td>0.07485</td>\n",
       "      <td>0.039420</td>\n",
       "      <td>27.320767</td>\n",
       "      <td>5.527507</td>\n",
       "      <td>138.058060</td>\n",
       "      <td>0.085000</td>\n",
       "    </tr>\n",
       "    <tr>\n",
       "      <th>std</th>\n",
       "      <td>22.516840</td>\n",
       "      <td>0.26315</td>\n",
       "      <td>0.194593</td>\n",
       "      <td>6.636783</td>\n",
       "      <td>1.070672</td>\n",
       "      <td>40.708136</td>\n",
       "      <td>0.278883</td>\n",
       "    </tr>\n",
       "    <tr>\n",
       "      <th>min</th>\n",
       "      <td>0.080000</td>\n",
       "      <td>0.00000</td>\n",
       "      <td>0.000000</td>\n",
       "      <td>10.010000</td>\n",
       "      <td>3.500000</td>\n",
       "      <td>80.000000</td>\n",
       "      <td>0.000000</td>\n",
       "    </tr>\n",
       "    <tr>\n",
       "      <th>25%</th>\n",
       "      <td>24.000000</td>\n",
       "      <td>0.00000</td>\n",
       "      <td>0.000000</td>\n",
       "      <td>23.630000</td>\n",
       "      <td>4.800000</td>\n",
       "      <td>100.000000</td>\n",
       "      <td>0.000000</td>\n",
       "    </tr>\n",
       "    <tr>\n",
       "      <th>50%</th>\n",
       "      <td>43.000000</td>\n",
       "      <td>0.00000</td>\n",
       "      <td>0.000000</td>\n",
       "      <td>27.320000</td>\n",
       "      <td>5.800000</td>\n",
       "      <td>140.000000</td>\n",
       "      <td>0.000000</td>\n",
       "    </tr>\n",
       "    <tr>\n",
       "      <th>75%</th>\n",
       "      <td>60.000000</td>\n",
       "      <td>0.00000</td>\n",
       "      <td>0.000000</td>\n",
       "      <td>29.580000</td>\n",
       "      <td>6.200000</td>\n",
       "      <td>159.000000</td>\n",
       "      <td>0.000000</td>\n",
       "    </tr>\n",
       "    <tr>\n",
       "      <th>max</th>\n",
       "      <td>80.000000</td>\n",
       "      <td>1.00000</td>\n",
       "      <td>1.000000</td>\n",
       "      <td>95.690000</td>\n",
       "      <td>9.000000</td>\n",
       "      <td>300.000000</td>\n",
       "      <td>1.000000</td>\n",
       "    </tr>\n",
       "  </tbody>\n",
       "</table>\n",
       "</div>"
      ],
      "text/plain": [
       "                 age  hypertension  heart_disease            bmi  \\\n",
       "count  100000.000000  100000.00000  100000.000000  100000.000000   \n",
       "mean       41.885856       0.07485       0.039420      27.320767   \n",
       "std        22.516840       0.26315       0.194593       6.636783   \n",
       "min         0.080000       0.00000       0.000000      10.010000   \n",
       "25%        24.000000       0.00000       0.000000      23.630000   \n",
       "50%        43.000000       0.00000       0.000000      27.320000   \n",
       "75%        60.000000       0.00000       0.000000      29.580000   \n",
       "max        80.000000       1.00000       1.000000      95.690000   \n",
       "\n",
       "         HbA1c_level  blood_glucose_level       diabetes  \n",
       "count  100000.000000        100000.000000  100000.000000  \n",
       "mean        5.527507           138.058060       0.085000  \n",
       "std         1.070672            40.708136       0.278883  \n",
       "min         3.500000            80.000000       0.000000  \n",
       "25%         4.800000           100.000000       0.000000  \n",
       "50%         5.800000           140.000000       0.000000  \n",
       "75%         6.200000           159.000000       0.000000  \n",
       "max         9.000000           300.000000       1.000000  "
      ]
     },
     "execution_count": 69,
     "metadata": {},
     "output_type": "execute_result"
    }
   ],
   "source": [
    "# c- Describe Numerical Cols\n",
    "df.select_dtypes(\"number\").describe()\n",
    "# age min = 0.080000 ??? \n",
    "# diabetes mean = 0.085000 ??? data imbalance \n",
    "# bim min = 10 and amx = 95 and std = 6 and 50% = 27 i have outlire"
   ]
  },
  {
   "cell_type": "code",
   "execution_count": 70,
   "id": "fd8d2d43",
   "metadata": {},
   "outputs": [
    {
     "name": "stdout",
     "output_type": "stream",
     "text": [
      "gender  -->>  ['Female', 'Male', 'Other']\n",
      "gender  -->>  {'Female': 0.58552, 'Male': 0.4143, 'Other': 0.00018}\n",
      "1.0\n",
      "________________________________________\n",
      "smoking_history  -->>  ['never', 'No Info', 'current', 'former', 'ever', 'not current']\n",
      "smoking_history  -->>  {'No Info': 0.35816, 'never': 0.35095, 'former': 0.09352, 'current': 0.09286, 'not current': 0.06447, 'ever': 0.04004}\n",
      "0.9999999999999999\n",
      "________________________________________\n"
     ]
    }
   ],
   "source": [
    "# d- Describe Categorical Cols\n",
    "\n",
    "for colum in list(df.select_dtypes(\"object\").columns): \n",
    "    print(colum ,\" -->> \",df[colum].unique().tolist())\n",
    "    print(colum ,\" -->> \",df[colum].value_counts(normalize=True ).to_dict())\n",
    "    ps = 0\n",
    "    for i in df[colum].value_counts(normalize=True ).to_dict().values():\n",
    "        ps+=i\n",
    "    print(ps)\n",
    "    print(\"_\"*40)\n",
    "\n",
    "# 'No Info': 0.35816 ? \n",
    "# ever and never  -> smoking_history  "
   ]
  },
  {
   "cell_type": "code",
   "execution_count": 71,
   "id": "7bce2705",
   "metadata": {},
   "outputs": [
    {
     "data": {
      "text/plain": [
       "<Axes: xlabel='bmi', ylabel='Count'>"
      ]
     },
     "execution_count": 71,
     "metadata": {},
     "output_type": "execute_result"
    },
    {
     "data": {
      "image/png": "[encoded data removed]",
      "text/plain": [
       "<Figure size 640x480 with 1 Axes>"
      ]
     },
     "metadata": {},
     "output_type": "display_data"
    }
   ],
   "source": [
    "# e- Catching any error\n",
    "\n",
    "# 1 - bim min = 10 and amx = 95 and std = 6 and 50% = 27 i have outlire\n",
    "\n",
    "# df[(df[\"bmi\"] <= 12) | (df[\"bmi\"] >= 60)].shape[0]  / df.shape[0] = 0.00201\n",
    "\n",
    "sns.histplot(data=df[(df[\"bmi\"] <= 12) | (df[\"bmi\"] >= 60)] , \n",
    "            x= \"bmi\" ,\n",
    "            bins=40)"
   ]
  },
  {
   "cell_type": "code",
   "execution_count": 72,
   "id": "ef282ff9",
   "metadata": {},
   "outputs": [
    {
     "data": {
      "text/plain": [
       "<Axes: xlabel='age', ylabel='Density'>"
      ]
     },
     "execution_count": 72,
     "metadata": {},
     "output_type": "execute_result"
    },
    {
     "data": {
      "image/png": "[encoded data removed]",
      "text/plain": [
       "<Figure size 640x480 with 1 Axes>"
      ]
     },
     "metadata": {},
     "output_type": "display_data"
    }
   ],
   "source": [
    "# age min = 0.080000 ??? \n",
    "\n",
    "sns.histplot(data=df , x=\"age\" , stat=\"density\" , kde=True)\n"
   ]
  },
  {
   "cell_type": "code",
   "execution_count": 73,
   "id": "6086ef7f",
   "metadata": {},
   "outputs": [
    {
     "data": {
      "text/plain": [
       "No Info        12107\n",
       "never           2592\n",
       "not current      418\n",
       "current           50\n",
       "ever               6\n",
       "former             6\n",
       "Name: smoking_history, dtype: int64"
      ]
     },
     "execution_count": 73,
     "metadata": {},
     "output_type": "execute_result"
    }
   ],
   "source": [
    "df[df[\"age\"] <= 15][\"smoking_history\"].value_counts()"
   ]
  },
  {
   "cell_type": "markdown",
   "id": "fd3bdeee",
   "metadata": {},
   "source": [
    "## 2) Data Cleaning \"Handling any error\" "
   ]
  },
  {
   "cell_type": "code",
   "execution_count": 3,
   "id": "6b428a66",
   "metadata": {},
   "outputs": [],
   "source": [
    "# It removes all rows where the BMI is less than or equal to  or greater than or equal  70.\n",
    "# These values are considered unrealistic or outliers\n",
    "\n",
    "df.drop(index= df[(df[\"bmi\"] <= 10) | (df[\"bmi\"] >= 70)].index , inplace=True )\n",
    "df.reset_index(drop=True , inplace=True)"
   ]
  },
  {
   "cell_type": "code",
   "execution_count": 4,
   "id": "9582b8c7",
   "metadata": {},
   "outputs": [],
   "source": [
    "# set the value to \"never\" for all rows where the person's age is 15 years old or younger,\n",
    "# assuming that children at that age do not smoke.\n",
    "df.loc[df[\"age\"] <= 15 , \"smoking_history\" ] = \"never\"  \n"
   ]
  },
  {
   "cell_type": "markdown",
   "id": "45ebe742",
   "metadata": {},
   "source": [
    "## 3) EXTRACT FEATURES + EDA (\"Univariate Analysis\" , \"Bivariate Analysis\") "
   ]
  },
  {
   "cell_type": "markdown",
   "id": "4607d880",
   "metadata": {},
   "source": [
    "### a) EXTRACT FEATURES"
   ]
  },
  {
   "attachments": {
    "bmi.jpg": {
     "image/jpeg": "[encoded data removed]"
    }
   },
   "cell_type": "markdown",
   "id": "b22e114e",
   "metadata": {},
   "source": [
    "![bmi.jpg](attachment:bmi.jpg)"
   ]
  },
  {
   "cell_type": "code",
   "execution_count": 5,
   "id": "f41071e2",
   "metadata": {},
   "outputs": [],
   "source": [
    "# \"is_fat\" \n",
    "# If the BMI is 25 or higher, the function returns 1 (meaning the person is considered fat).\n",
    "# Otherwise, it returns 0 (meaning the person is not fat).\n",
    "\n",
    "def is_the_person_fat(bmi):\n",
    "    \n",
    "    if bmi >= 25 :\n",
    "        return 1 \n",
    "    else :\n",
    "        return 0\n",
    "df[\"is_fat\"] = df[\"bmi\"].apply(is_the_person_fat)"
   ]
  },
  {
   "cell_type": "code",
   "execution_count": 6,
   "id": "207be202",
   "metadata": {},
   "outputs": [
    {
     "data": {
      "text/html": [
       "<div>\n",
       "<style scoped>\n",
       "    .dataframe tbody tr th:only-of-type {\n",
       "        vertical-align: middle;\n",
       "    }\n",
       "\n",
       "    .dataframe tbody tr th {\n",
       "        vertical-align: top;\n",
       "    }\n",
       "\n",
       "    .dataframe thead th {\n",
       "        text-align: right;\n",
       "    }\n",
       "</style>\n",
       "<table border=\"1\" class=\"dataframe\">\n",
       "  <thead>\n",
       "    <tr style=\"text-align: right;\">\n",
       "      <th></th>\n",
       "      <th>gender</th>\n",
       "      <th>age</th>\n",
       "      <th>hypertension</th>\n",
       "      <th>heart_disease</th>\n",
       "      <th>smoking_history</th>\n",
       "      <th>bmi</th>\n",
       "      <th>HbA1c_level</th>\n",
       "      <th>blood_glucose_level</th>\n",
       "      <th>diabetes</th>\n",
       "      <th>is_fat</th>\n",
       "      <th>smoking_risk_level</th>\n",
       "    </tr>\n",
       "  </thead>\n",
       "  <tbody>\n",
       "    <tr>\n",
       "      <th>0</th>\n",
       "      <td>Female</td>\n",
       "      <td>80.0</td>\n",
       "      <td>0</td>\n",
       "      <td>1</td>\n",
       "      <td>never</td>\n",
       "      <td>25.19</td>\n",
       "      <td>6.6</td>\n",
       "      <td>140</td>\n",
       "      <td>0</td>\n",
       "      <td>1</td>\n",
       "      <td>0.0</td>\n",
       "    </tr>\n",
       "    <tr>\n",
       "      <th>1</th>\n",
       "      <td>Female</td>\n",
       "      <td>54.0</td>\n",
       "      <td>0</td>\n",
       "      <td>0</td>\n",
       "      <td>No Info</td>\n",
       "      <td>27.32</td>\n",
       "      <td>6.6</td>\n",
       "      <td>80</td>\n",
       "      <td>0</td>\n",
       "      <td>1</td>\n",
       "      <td>NaN</td>\n",
       "    </tr>\n",
       "    <tr>\n",
       "      <th>2</th>\n",
       "      <td>Male</td>\n",
       "      <td>28.0</td>\n",
       "      <td>0</td>\n",
       "      <td>0</td>\n",
       "      <td>never</td>\n",
       "      <td>27.32</td>\n",
       "      <td>5.7</td>\n",
       "      <td>158</td>\n",
       "      <td>0</td>\n",
       "      <td>1</td>\n",
       "      <td>0.0</td>\n",
       "    </tr>\n",
       "    <tr>\n",
       "      <th>3</th>\n",
       "      <td>Female</td>\n",
       "      <td>36.0</td>\n",
       "      <td>0</td>\n",
       "      <td>0</td>\n",
       "      <td>current</td>\n",
       "      <td>23.45</td>\n",
       "      <td>5.0</td>\n",
       "      <td>155</td>\n",
       "      <td>0</td>\n",
       "      <td>0</td>\n",
       "      <td>4.0</td>\n",
       "    </tr>\n",
       "    <tr>\n",
       "      <th>4</th>\n",
       "      <td>Male</td>\n",
       "      <td>76.0</td>\n",
       "      <td>1</td>\n",
       "      <td>1</td>\n",
       "      <td>current</td>\n",
       "      <td>20.14</td>\n",
       "      <td>4.8</td>\n",
       "      <td>155</td>\n",
       "      <td>0</td>\n",
       "      <td>0</td>\n",
       "      <td>4.0</td>\n",
       "    </tr>\n",
       "    <tr>\n",
       "      <th>...</th>\n",
       "      <td>...</td>\n",
       "      <td>...</td>\n",
       "      <td>...</td>\n",
       "      <td>...</td>\n",
       "      <td>...</td>\n",
       "      <td>...</td>\n",
       "      <td>...</td>\n",
       "      <td>...</td>\n",
       "      <td>...</td>\n",
       "      <td>...</td>\n",
       "      <td>...</td>\n",
       "    </tr>\n",
       "    <tr>\n",
       "      <th>99976</th>\n",
       "      <td>Female</td>\n",
       "      <td>80.0</td>\n",
       "      <td>0</td>\n",
       "      <td>0</td>\n",
       "      <td>No Info</td>\n",
       "      <td>27.32</td>\n",
       "      <td>6.2</td>\n",
       "      <td>90</td>\n",
       "      <td>0</td>\n",
       "      <td>1</td>\n",
       "      <td>NaN</td>\n",
       "    </tr>\n",
       "    <tr>\n",
       "      <th>99977</th>\n",
       "      <td>Female</td>\n",
       "      <td>2.0</td>\n",
       "      <td>0</td>\n",
       "      <td>0</td>\n",
       "      <td>never</td>\n",
       "      <td>17.37</td>\n",
       "      <td>6.5</td>\n",
       "      <td>100</td>\n",
       "      <td>0</td>\n",
       "      <td>0</td>\n",
       "      <td>0.0</td>\n",
       "    </tr>\n",
       "    <tr>\n",
       "      <th>99978</th>\n",
       "      <td>Male</td>\n",
       "      <td>66.0</td>\n",
       "      <td>0</td>\n",
       "      <td>0</td>\n",
       "      <td>former</td>\n",
       "      <td>27.83</td>\n",
       "      <td>5.7</td>\n",
       "      <td>155</td>\n",
       "      <td>0</td>\n",
       "      <td>1</td>\n",
       "      <td>1.0</td>\n",
       "    </tr>\n",
       "    <tr>\n",
       "      <th>99979</th>\n",
       "      <td>Female</td>\n",
       "      <td>24.0</td>\n",
       "      <td>0</td>\n",
       "      <td>0</td>\n",
       "      <td>never</td>\n",
       "      <td>35.42</td>\n",
       "      <td>4.0</td>\n",
       "      <td>100</td>\n",
       "      <td>0</td>\n",
       "      <td>1</td>\n",
       "      <td>0.0</td>\n",
       "    </tr>\n",
       "    <tr>\n",
       "      <th>99980</th>\n",
       "      <td>Female</td>\n",
       "      <td>57.0</td>\n",
       "      <td>0</td>\n",
       "      <td>0</td>\n",
       "      <td>current</td>\n",
       "      <td>22.43</td>\n",
       "      <td>6.6</td>\n",
       "      <td>90</td>\n",
       "      <td>0</td>\n",
       "      <td>0</td>\n",
       "      <td>4.0</td>\n",
       "    </tr>\n",
       "  </tbody>\n",
       "</table>\n",
       "<p>99981 rows × 11 columns</p>\n",
       "</div>"
      ],
      "text/plain": [
       "       gender   age  hypertension  heart_disease smoking_history    bmi  \\\n",
       "0      Female  80.0             0              1           never  25.19   \n",
       "1      Female  54.0             0              0         No Info  27.32   \n",
       "2        Male  28.0             0              0           never  27.32   \n",
       "3      Female  36.0             0              0         current  23.45   \n",
       "4        Male  76.0             1              1         current  20.14   \n",
       "...       ...   ...           ...            ...             ...    ...   \n",
       "99976  Female  80.0             0              0         No Info  27.32   \n",
       "99977  Female   2.0             0              0           never  17.37   \n",
       "99978    Male  66.0             0              0          former  27.83   \n",
       "99979  Female  24.0             0              0           never  35.42   \n",
       "99980  Female  57.0             0              0         current  22.43   \n",
       "\n",
       "       HbA1c_level  blood_glucose_level  diabetes  is_fat  smoking_risk_level  \n",
       "0              6.6                  140         0       1                 0.0  \n",
       "1              6.6                   80         0       1                 NaN  \n",
       "2              5.7                  158         0       1                 0.0  \n",
       "3              5.0                  155         0       0                 4.0  \n",
       "4              4.8                  155         0       0                 4.0  \n",
       "...            ...                  ...       ...     ...                 ...  \n",
       "99976          6.2                   90         0       1                 NaN  \n",
       "99977          6.5                  100         0       0                 0.0  \n",
       "99978          5.7                  155         0       1                 1.0  \n",
       "99979          4.0                  100         0       1                 0.0  \n",
       "99980          6.6                   90         0       0                 4.0  \n",
       "\n",
       "[99981 rows x 11 columns]"
      ]
     },
     "execution_count": 6,
     "metadata": {},
     "output_type": "execute_result"
    }
   ],
   "source": [
    "# df[\"smoking_history\"].unique() = ['never', 'No Info', 'current', 'former', 'ever', 'not current']\n",
    "\n",
    "smoking_risk_map = {\n",
    "    \"never\": 0,\n",
    "    \"former\": 1,\n",
    "    \"not current\": 2,\n",
    "    \"ever\": 3,\n",
    "    \"current\": 4,\n",
    "    \"No Info\": np.nan # I will replace No Info\n",
    "}\n",
    "df[\"smoking_risk_level\"] = df[\"smoking_history\"].map(smoking_risk_map)\n",
    "df"
   ]
  },
  {
   "cell_type": "code",
   "execution_count": 7,
   "id": "6f6e6752",
   "metadata": {},
   "outputs": [],
   "source": [
    "imputer = KNNImputer(n_neighbors=5) # imputer for fill no info data \n",
    "\n",
    "df_for_imputation = df.drop(columns=[\"gender\" , \"smoking_history\"]) # Prepare dataframe without categorical column\n"
   ]
  },
  {
   "cell_type": "code",
   "execution_count": 8,
   "id": "d12ef854",
   "metadata": {},
   "outputs": [],
   "source": [
    "import random\n",
    "index_to_evaluate = random.sample( list(df_for_imputation.dropna(axis=0).index), 1000 ) # Choose random index for evaluation\n",
    "\n",
    "df_evaluate = df_for_imputation.iloc[index_to_evaluate].copy() # Take Rowse from those index\n",
    "\n",
    "df_evaluate_smoking_risk_level = df_evaluate[\"smoking_risk_level\"].copy() # # Take the target colam from evaluate df \n",
    "\n",
    "df_evaluate[\"smoking_risk_level\"] = np.nan # replace the values with nan\n"
   ]
  },
  {
   "cell_type": "code",
   "execution_count": 9,
   "id": "cfc6761f",
   "metadata": {},
   "outputs": [
    {
     "data": {
      "text/html": [
       "<div>\n",
       "<style scoped>\n",
       "    .dataframe tbody tr th:only-of-type {\n",
       "        vertical-align: middle;\n",
       "    }\n",
       "\n",
       "    .dataframe tbody tr th {\n",
       "        vertical-align: top;\n",
       "    }\n",
       "\n",
       "    .dataframe thead th {\n",
       "        text-align: right;\n",
       "    }\n",
       "</style>\n",
       "<table border=\"1\" class=\"dataframe\">\n",
       "  <thead>\n",
       "    <tr style=\"text-align: right;\">\n",
       "      <th></th>\n",
       "      <th>gender</th>\n",
       "      <th>smoking_history</th>\n",
       "      <th>age</th>\n",
       "      <th>hypertension</th>\n",
       "      <th>heart_disease</th>\n",
       "      <th>bmi</th>\n",
       "      <th>HbA1c_level</th>\n",
       "      <th>blood_glucose_level</th>\n",
       "      <th>diabetes</th>\n",
       "      <th>is_fat</th>\n",
       "      <th>smoking_risk_level</th>\n",
       "    </tr>\n",
       "  </thead>\n",
       "  <tbody>\n",
       "    <tr>\n",
       "      <th>0</th>\n",
       "      <td>Female</td>\n",
       "      <td>never</td>\n",
       "      <td>80.0</td>\n",
       "      <td>0.0</td>\n",
       "      <td>1.0</td>\n",
       "      <td>25.19</td>\n",
       "      <td>6.6</td>\n",
       "      <td>140.0</td>\n",
       "      <td>0.0</td>\n",
       "      <td>1.0</td>\n",
       "      <td>0</td>\n",
       "    </tr>\n",
       "    <tr>\n",
       "      <th>1</th>\n",
       "      <td>Female</td>\n",
       "      <td>No Info</td>\n",
       "      <td>54.0</td>\n",
       "      <td>0.0</td>\n",
       "      <td>0.0</td>\n",
       "      <td>27.32</td>\n",
       "      <td>6.6</td>\n",
       "      <td>80.0</td>\n",
       "      <td>0.0</td>\n",
       "      <td>1.0</td>\n",
       "      <td>1</td>\n",
       "    </tr>\n",
       "    <tr>\n",
       "      <th>2</th>\n",
       "      <td>Male</td>\n",
       "      <td>never</td>\n",
       "      <td>28.0</td>\n",
       "      <td>0.0</td>\n",
       "      <td>0.0</td>\n",
       "      <td>27.32</td>\n",
       "      <td>5.7</td>\n",
       "      <td>158.0</td>\n",
       "      <td>0.0</td>\n",
       "      <td>1.0</td>\n",
       "      <td>0</td>\n",
       "    </tr>\n",
       "  </tbody>\n",
       "</table>\n",
       "</div>"
      ],
      "text/plain": [
       "   gender smoking_history   age  hypertension  heart_disease    bmi  \\\n",
       "0  Female           never  80.0           0.0            1.0  25.19   \n",
       "1  Female         No Info  54.0           0.0            0.0  27.32   \n",
       "2    Male           never  28.0           0.0            0.0  27.32   \n",
       "\n",
       "   HbA1c_level  blood_glucose_level  diabetes  is_fat  smoking_risk_level  \n",
       "0          6.6                140.0       0.0     1.0                   0  \n",
       "1          6.6                 80.0       0.0     1.0                   1  \n",
       "2          5.7                158.0       0.0     1.0                   0  "
      ]
     },
     "execution_count": 9,
     "metadata": {},
     "output_type": "execute_result"
    }
   ],
   "source": [
    "imputed_array = imputer.fit_transform(df_for_imputation) # fill the nan values in the data\n",
    "\n",
    "df_imputed = pd.DataFrame(imputed_array, columns=df_for_imputation.columns) # make the rezalt as df\n",
    "\n",
    "df = pd.concat([df[[\"gender\", \"smoking_history\"]].reset_index(drop=True),\n",
    "                      df_imputed.reset_index(drop=True)], axis=1) # concat the categorical column with the df\n",
    "\n",
    "df[\"smoking_risk_level\"] = df[\"smoking_risk_level\"].astype(\"int\") # cange the type to be int \n",
    "\n",
    "df.head(3) # show first three rowes "
   ]
  },
  {
   "cell_type": "code",
   "execution_count": 10,
   "id": "ed58ba36",
   "metadata": {},
   "outputs": [
    {
     "name": "stdout",
     "output_type": "stream",
     "text": [
      "Accuracy: 0.51\n"
     ]
    }
   ],
   "source": [
    "smoking_risk_level_predict = pd.DataFrame(imputer.transform(df_evaluate), columns=df_for_imputation.columns)[\"smoking_risk_level\"] \n",
    "# make the imputer fill the nan and save the rezalt for evaluate\n",
    "\n",
    "acc = accuracy_score(df_evaluate_smoking_risk_level, smoking_risk_level_predict.astype(\"int\")) # Calculate the accuracy From the production and the true\n",
    "print(f\"Accuracy: {acc}\")\n",
    "\n",
    "# 0.56 it is not that bad "
   ]
  },
  {
   "cell_type": "code",
   "execution_count": 11,
   "id": "4228a686",
   "metadata": {},
   "outputs": [],
   "source": [
    "reverse_map = {\n",
    "    0: \"never\",\n",
    "    1: \"former\",\n",
    "    2: \"not current\",\n",
    "    3: \"ever\",\n",
    "    4: \"current\"\n",
    "}\n",
    "df[\"smoking_history\"] = df[\"smoking_risk_level\"].map(reverse_map) # Apply the result on the column\n"
   ]
  },
  {
   "cell_type": "code",
   "execution_count": 83,
   "id": "1a47308b",
   "metadata": {},
   "outputs": [
    {
     "data": {
      "text/plain": [
       "0    57189\n",
       "1    19987\n",
       "2     9261\n",
       "4     9243\n",
       "3     4301\n",
       "Name: smoking_risk_level, dtype: int64"
      ]
     },
     "execution_count": 83,
     "metadata": {},
     "output_type": "execute_result"
    }
   ],
   "source": [
    "df[\"smoking_risk_level\"].value_counts()"
   ]
  },
  {
   "cell_type": "code",
   "execution_count": 84,
   "id": "67d3ee97",
   "metadata": {},
   "outputs": [
    {
     "data": {
      "text/plain": [
       "never          57189\n",
       "former         19987\n",
       "not current     9261\n",
       "current         9243\n",
       "ever            4301\n",
       "Name: smoking_history, dtype: int64"
      ]
     },
     "execution_count": 84,
     "metadata": {},
     "output_type": "execute_result"
    }
   ],
   "source": [
    "df[\"smoking_history\"].value_counts()"
   ]
  },
  {
   "attachments": {
    "age.jpg": {
     "image/jpeg": "[encoded data removed]"
    }
   },
   "cell_type": "markdown",
   "id": "cac44ece",
   "metadata": {},
   "source": [
    "![age.jpg](attachment:age.jpg)"
   ]
  },
  {
   "cell_type": "code",
   "execution_count": 12,
   "id": "53e2a592",
   "metadata": {},
   "outputs": [],
   "source": [
    "# (MS) Metabolic Syndrome - (IFG) Impaired Fasting Glucose - (DM) Diabetes Mellitus\n",
    "\n",
    "# risk_age\n",
    "# Older people are more susceptible to this disease.\n",
    "# If the age is 60 or older, it returns 1 .\n",
    "# Otherwise, it returns 0.\n",
    "\n",
    "\n",
    "\n",
    "def is_high_risk_age (age):\n",
    "    if age >= 60 :\n",
    "        return 1\n",
    "    else :\n",
    "        return 0\n",
    "\n",
    "\n",
    "df[\"risk_age\"] = df[\"age\"].apply(is_high_risk_age)"
   ]
  },
  {
   "cell_type": "code",
   "execution_count": 13,
   "id": "6d9e9e65",
   "metadata": {},
   "outputs": [],
   "source": [
    "# glucose_risk_level\n",
    "# that categorizes blood glucose levels into three risk levels:\n",
    "# 0 → Normal blood sugar (≤ 140)\n",
    "# 1 → Prediabetes (between 141 and 199)\n",
    "# 2 → Diabetes (≥ 200 )\n",
    "\n",
    "def is_high_risk_glucose(blood_glucose_level):\n",
    "    if blood_glucose_level <= 140:\n",
    "        return 0\n",
    "    elif blood_glucose_level <= 199:\n",
    "        return 1\n",
    "    else :\n",
    "        return 2\n",
    "\n",
    "df[\"glucose_risk_level\"] = df[\"blood_glucose_level\"].apply(is_high_risk_glucose)"
   ]
  },
  {
   "cell_type": "code",
   "execution_count": 14,
   "id": "4eafd6bc",
   "metadata": {},
   "outputs": [],
   "source": [
    "# that categorizes a person's HbA1c level into 4 risk levels:\n",
    "# 0 → Normal (HbA1c < 5.7%)\n",
    "# 1 → Slightly Elevated (5.7 ≤ HbA1c < 6%)\n",
    "# 2 → Prediabetes (6% ≤ HbA1c < 6.5%)\n",
    "# 3 → Diabetes (HbA1c ≥ 6.5%)\n",
    "\n",
    "def hba1c_risk(val):\n",
    "    if val < 5.7:\n",
    "        return 0\n",
    "    elif val < 6:\n",
    "        return 1\n",
    "    elif val < 6.5:\n",
    "        return 2\n",
    "    else:\n",
    "        return 3\n",
    "\n",
    "df[\"hba1c_risk_score\"] = df[\"HbA1c_level\"].apply(hba1c_risk)"
   ]
  },
  {
   "cell_type": "code",
   "execution_count": 15,
   "id": "33fb73ca",
   "metadata": {},
   "outputs": [],
   "source": [
    "# that calculates a composite risk score for each person by adding values from several health related columns .\n",
    "\n",
    "\n",
    "def risk_score(row):\n",
    "    score = (\n",
    "        row[\"hypertension\"]\n",
    "        + row[\"heart_disease\"]\n",
    "        + row[\"is_fat\"]\n",
    "        + row[\"smoking_risk_level\"]\n",
    "        + row[\"risk_age\"]\n",
    "        + row[\"glucose_risk_level\"]\n",
    "        + row[\"hba1c_risk_score\"]\n",
    "    )\n",
    "    return score\n",
    "\n",
    "df[\"risk_score\"] = df.apply(risk_score, axis=1)"
   ]
  },
  {
   "cell_type": "code",
   "execution_count": 16,
   "id": "6401d129",
   "metadata": {},
   "outputs": [],
   "source": [
    "# Change the type of binary column from float to integer\n",
    "df[[\"hypertension\" ,\"heart_disease\",\n",
    "    \"diabetes\",\"is_fat\",\"smoking_risk_level\"\n",
    "    ,\"risk_age\",\"glucose_risk_level\",\n",
    "    \"hba1c_risk_score\",\"risk_score\"]] = df[[\"hypertension\" ,\"heart_disease\",\"diabetes\",\"is_fat\",\n",
    "                                            \"smoking_risk_level\",\"risk_age\",\"glucose_risk_level\",\n",
    "                                            \"hba1c_risk_score\",\"risk_score\"]].astype(\"int\")"
   ]
  },
  {
   "cell_type": "markdown",
   "id": "ebf914f6",
   "metadata": {},
   "source": [
    "### B) EDA (\"Univariate Analysis\" , \"Bivariate Analysis\") "
   ]
  },
  {
   "cell_type": "markdown",
   "id": "3141029d",
   "metadata": {},
   "source": [
    "### 1- Univariate Analysis"
   ]
  },
  {
   "cell_type": "code",
   "execution_count": 90,
   "id": "b56006b2",
   "metadata": {},
   "outputs": [
    {
     "data": {
      "image/png": "[encoded data removed]",
      "text/plain": [
       "<Figure size 1400x1200 with 8 Axes>"
      ]
     },
     "metadata": {},
     "output_type": "display_data"
    }
   ],
   "source": [
    "numeric_columns = ['age','gender' ,'hypertension', 'heart_disease', 'bmi', 'HbA1c_level', 'blood_glucose_level', 'diabetes']\n",
    "\n",
    "\n",
    "plt.figure(figsize=(14, 12))\n",
    "\n",
    "\n",
    "for i, column in enumerate(numeric_columns, 1):\n",
    "    plt.subplot(3, 3, i) \n",
    "    sns.histplot(df[column], bins=30, color='skyblue' , stat=\"count\")  \n",
    "    plt.title(f'Histogram of {column}')\n",
    "    plt.xlabel(column)\n",
    "    plt.ylabel('Frequency')\n",
    "\n",
    "\n",
    "plt.tight_layout()\n",
    "plt.show()"
   ]
  },
  {
   "cell_type": "markdown",
   "id": "88af146e",
   "metadata": {},
   "source": [
    "### 2- Bivariate Analysis "
   ]
  },
  {
   "cell_type": "code",
   "execution_count": 91,
   "id": "fc686801",
   "metadata": {},
   "outputs": [
    {
     "data": {
      "image/png": "[encoded data removed]",
      "text/plain": [
       "<Figure size 1400x1200 with 4 Axes>"
      ]
     },
     "metadata": {},
     "output_type": "display_data"
    }
   ],
   "source": [
    "# \n",
    "\n",
    "fig, axes = plt.subplots(2, 2, figsize=(14, 12))  \n",
    "axes = axes.flatten()  \n",
    "\n",
    "\n",
    "sns.boxplot(data=df, y=\"bmi\", hue=\"diabetes\", ax=axes[0])\n",
    "axes[0].set_title(\"BMI Distribution by Diabetes Status\")\n",
    "\n",
    "sns.boxplot(data=df, y=\"age\", hue=\"diabetes\", ax=axes[1])\n",
    "axes[1].set_title(\"Age Distribution by Diabetes Status\")\n",
    "\n",
    "sns.boxplot(data=df, y=\"HbA1c_level\", hue=\"diabetes\", ax=axes[2])\n",
    "axes[2].set_title(\"HbA1c Level Distribution by Diabetes Status\")\n",
    "\n",
    "sns.boxplot(data=df, y=\"blood_glucose_level\", hue=\"diabetes\", ax=axes[3])\n",
    "axes[3].set_title(\"Blood Glucose Level Distribution by Diabetes Status\")\n",
    "\n",
    "\n",
    "plt.tight_layout()\n",
    "plt.show()"
   ]
  },
  {
   "cell_type": "markdown",
   "id": "616e0267",
   "metadata": {},
   "source": [
    "## Conclusion from this chart\n",
    "* 1- People with a high BMI have more diabetes than those with a low BMI.\n",
    "* 2- Older people have more diabetes than younger people.\n",
    "* 3- People with a high HbA1c level have more diabetes than those with a low HbA1c level.\n",
    "* 4- People with a high blood glucose level have more diabetes than those with a low blood glucose level."
   ]
  },
  {
   "cell_type": "code",
   "execution_count": 92,
   "id": "53a84aa9",
   "metadata": {},
   "outputs": [
    {
     "data": {
      "application/vnd.plotly.v1+json": {
       "config": {
        "plotlyServerURL": "https://plot.ly"
       },
       "data": [
        {
         "domain": {
          "x": [
           0,
           0.2888888888888889
          ],
          "y": [
           0.625,
           1
          ]
         },
         "labels": [
          0,
          1
         ],
         "name": "Heart Disease",
         "type": "pie",
         "values": [
          7227,
          1267
         ]
        },
        {
         "domain": {
          "x": [
           0.35555555555555557,
           0.6444444444444445
          ],
          "y": [
           0.625,
           1
          ]
         },
         "labels": [
          0,
          1
         ],
         "name": "Hypertension",
         "type": "pie",
         "values": [
          6406,
          2088
         ]
        },
        {
         "domain": {
          "x": [
           0.7111111111111111,
           1
          ],
          "y": [
           0.625,
           1
          ]
         },
         "labels": [
          0,
          1
         ],
         "name": "Is Fat",
         "type": "pie",
         "values": [
          927,
          7567
         ]
        },
        {
         "domain": {
          "x": [
           0,
           0.2888888888888889
          ],
          "y": [
           0,
           0.375
          ]
         },
         "labels": [
          0,
          1
         ],
         "name": "Risk Age",
         "type": "pie",
         "values": [
          3562,
          4932
         ]
        },
        {
         "domain": {
          "x": [
           0.35555555555555557,
           0.6444444444444445
          ],
          "y": [
           0,
           0.375
          ]
         },
         "labels": [
          0,
          1,
          2
         ],
         "name": "Glucose Risk",
         "type": "pie",
         "values": [
          1952,
          2622,
          3920
         ]
        },
        {
         "domain": {
          "x": [
           0.7111111111111111,
           1
          ],
          "y": [
           0,
           0.375
          ]
         },
         "labels": [
          1,
          2,
          3
         ],
         "name": "HbA1c Risk",
         "type": "pie",
         "values": [
          1363,
          1945,
          5186
         ]
        }
       ],
       "layout": {
        "annotations": [
         {
          "font": {
           "size": 16
          },
          "showarrow": false,
          "text": "Heart Disease & Diabetes",
          "x": 0.14444444444444446,
          "xanchor": "center",
          "xref": "paper",
          "y": 1,
          "yanchor": "bottom",
          "yref": "paper"
         },
         {
          "font": {
           "size": 16
          },
          "showarrow": false,
          "text": "Hypertension & Diabetes",
          "x": 0.5,
          "xanchor": "center",
          "xref": "paper",
          "y": 1,
          "yanchor": "bottom",
          "yref": "paper"
         },
         {
          "font": {
           "size": 16
          },
          "showarrow": false,
          "text": "Is Fat & Diabetes",
          "x": 0.8555555555555556,
          "xanchor": "center",
          "xref": "paper",
          "y": 1,
          "yanchor": "bottom",
          "yref": "paper"
         },
         {
          "font": {
           "size": 16
          },
          "showarrow": false,
          "text": "Risk Age & Diabetes",
          "x": 0.14444444444444446,
          "xanchor": "center",
          "xref": "paper",
          "y": 0.375,
          "yanchor": "bottom",
          "yref": "paper"
         },
         {
          "font": {
           "size": 16
          },
          "showarrow": false,
          "text": "Glucose Risk Level & Diabetes",
          "x": 0.5,
          "xanchor": "center",
          "xref": "paper",
          "y": 0.375,
          "yanchor": "bottom",
          "yref": "paper"
         },
         {
          "font": {
           "size": 16
          },
          "showarrow": false,
          "text": "HbA1c Risk Score & Diabetes",
          "x": 0.8555555555555556,
          "xanchor": "center",
          "xref": "paper",
          "y": 0.375,
          "yanchor": "bottom",
          "yref": "paper"
         }
        ],
        "height": 700,
        "showlegend": false,
        "template": {
         "data": {
          "bar": [
           {
            "error_x": {
             "color": "#2a3f5f"
            },
            "error_y": {
             "color": "#2a3f5f"
            },
            "marker": {
             "line": {
              "color": "#E5ECF6",
              "width": 0.5
             },
             "pattern": {
              "fillmode": "overlay",
              "size": 10,
              "solidity": 0.2
             }
            },
            "type": "bar"
           }
          ],
          "barpolar": [
           {
            "marker": {
             "line": {
              "color": "#E5ECF6",
              "width": 0.5
             },
             "pattern": {
              "fillmode": "overlay",
              "size": 10,
              "solidity": 0.2
             }
            },
            "type": "barpolar"
           }
          ],
          "carpet": [
           {
            "aaxis": {
             "endlinecolor": "#2a3f5f",
             "gridcolor": "white",
             "linecolor": "white",
             "minorgridcolor": "white",
             "startlinecolor": "#2a3f5f"
            },
            "baxis": {
             "endlinecolor": "#2a3f5f",
             "gridcolor": "white",
             "linecolor": "white",
             "minorgridcolor": "white",
             "startlinecolor": "#2a3f5f"
            },
            "type": "carpet"
           }
          ],
          "choropleth": [
           {
            "colorbar": {
             "outlinewidth": 0,
             "ticks": ""
            },
            "type": "choropleth"
           }
          ],
          "contour": [
           {
            "colorbar": {
             "outlinewidth": 0,
             "ticks": ""
            },
            "colorscale": [
             [
              0,
              "#0d0887"
             ],
             [
              0.1111111111111111,
              "#46039f"
             ],
             [
              0.2222222222222222,
              "#7201a8"
             ],
             [
              0.3333333333333333,
              "#9c179e"
             ],
             [
              0.4444444444444444,
              "#bd3786"
             ],
             [
              0.5555555555555556,
              "#d8576b"
             ],
             [
              0.6666666666666666,
              "#ed7953"
             ],
             [
              0.7777777777777778,
              "#fb9f3a"
             ],
             [
              0.8888888888888888,
              "#fdca26"
             ],
             [
              1,
              "#f0f921"
             ]
            ],
            "type": "contour"
           }
          ],
          "contourcarpet": [
           {
            "colorbar": {
             "outlinewidth": 0,
             "ticks": ""
            },
            "type": "contourcarpet"
           }
          ],
          "heatmap": [
           {
            "colorbar": {
             "outlinewidth": 0,
             "ticks": ""
            },
            "colorscale": [
             [
              0,
              "#0d0887"
             ],
             [
              0.1111111111111111,
              "#46039f"
             ],
             [
              0.2222222222222222,
              "#7201a8"
             ],
             [
              0.3333333333333333,
              "#9c179e"
             ],
             [
              0.4444444444444444,
              "#bd3786"
             ],
             [
              0.5555555555555556,
              "#d8576b"
             ],
             [
              0.6666666666666666,
              "#ed7953"
             ],
             [
              0.7777777777777778,
              "#fb9f3a"
             ],
             [
              0.8888888888888888,
              "#fdca26"
             ],
             [
              1,
              "#f0f921"
             ]
            ],
            "type": "heatmap"
           }
          ],
          "heatmapgl": [
           {
            "colorbar": {
             "outlinewidth": 0,
             "ticks": ""
            },
            "colorscale": [
             [
              0,
              "#0d0887"
             ],
             [
              0.1111111111111111,
              "#46039f"
             ],
             [
              0.2222222222222222,
              "#7201a8"
             ],
             [
              0.3333333333333333,
              "#9c179e"
             ],
             [
              0.4444444444444444,
              "#bd3786"
             ],
             [
              0.5555555555555556,
              "#d8576b"
             ],
             [
              0.6666666666666666,
              "#ed7953"
             ],
             [
              0.7777777777777778,
              "#fb9f3a"
             ],
             [
              0.8888888888888888,
              "#fdca26"
             ],
             [
              1,
              "#f0f921"
             ]
            ],
            "type": "heatmapgl"
           }
          ],
          "histogram": [
           {
            "marker": {
             "pattern": {
              "fillmode": "overlay",
              "size": 10,
              "solidity": 0.2
             }
            },
            "type": "histogram"
           }
          ],
          "histogram2d": [
           {
            "colorbar": {
             "outlinewidth": 0,
             "ticks": ""
            },
            "colorscale": [
             [
              0,
              "#0d0887"
             ],
             [
              0.1111111111111111,
              "#46039f"
             ],
             [
              0.2222222222222222,
              "#7201a8"
             ],
             [
              0.3333333333333333,
              "#9c179e"
             ],
             [
              0.4444444444444444,
              "#bd3786"
             ],
             [
              0.5555555555555556,
              "#d8576b"
             ],
             [
              0.6666666666666666,
              "#ed7953"
             ],
             [
              0.7777777777777778,
              "#fb9f3a"
             ],
             [
              0.8888888888888888,
              "#fdca26"
             ],
             [
              1,
              "#f0f921"
             ]
            ],
            "type": "histogram2d"
           }
          ],
          "histogram2dcontour": [
           {
            "colorbar": {
             "outlinewidth": 0,
             "ticks": ""
            },
            "colorscale": [
             [
              0,
              "#0d0887"
             ],
             [
              0.1111111111111111,
              "#46039f"
             ],
             [
              0.2222222222222222,
              "#7201a8"
             ],
             [
              0.3333333333333333,
              "#9c179e"
             ],
             [
              0.4444444444444444,
              "#bd3786"
             ],
             [
              0.5555555555555556,
              "#d8576b"
             ],
             [
              0.6666666666666666,
              "#ed7953"
             ],
             [
              0.7777777777777778,
              "#fb9f3a"
             ],
             [
              0.8888888888888888,
              "#fdca26"
             ],
             [
              1,
              "#f0f921"
             ]
            ],
            "type": "histogram2dcontour"
           }
          ],
          "mesh3d": [
           {
            "colorbar": {
             "outlinewidth": 0,
             "ticks": ""
            },
            "type": "mesh3d"
           }
          ],
          "parcoords": [
           {
            "line": {
             "colorbar": {
              "outlinewidth": 0,
              "ticks": ""
             }
            },
            "type": "parcoords"
           }
          ],
          "pie": [
           {
            "automargin": true,
            "type": "pie"
           }
          ],
          "scatter": [
           {
            "fillpattern": {
             "fillmode": "overlay",
             "size": 10,
             "solidity": 0.2
            },
            "type": "scatter"
           }
          ],
          "scatter3d": [
           {
            "line": {
             "colorbar": {
              "outlinewidth": 0,
              "ticks": ""
             }
            },
            "marker": {
             "colorbar": {
              "outlinewidth": 0,
              "ticks": ""
             }
            },
            "type": "scatter3d"
           }
          ],
          "scattercarpet": [
           {
            "marker": {
             "colorbar": {
              "outlinewidth": 0,
              "ticks": ""
             }
            },
            "type": "scattercarpet"
           }
          ],
          "scattergeo": [
           {
            "marker": {
             "colorbar": {
              "outlinewidth": 0,
              "ticks": ""
             }
            },
            "type": "scattergeo"
           }
          ],
          "scattergl": [
           {
            "marker": {
             "colorbar": {
              "outlinewidth": 0,
              "ticks": ""
             }
            },
            "type": "scattergl"
           }
          ],
          "scattermapbox": [
           {
            "marker": {
             "colorbar": {
              "outlinewidth": 0,
              "ticks": ""
             }
            },
            "type": "scattermapbox"
           }
          ],
          "scatterpolar": [
           {
            "marker": {
             "colorbar": {
              "outlinewidth": 0,
              "ticks": ""
             }
            },
            "type": "scatterpolar"
           }
          ],
          "scatterpolargl": [
           {
            "marker": {
             "colorbar": {
              "outlinewidth": 0,
              "ticks": ""
             }
            },
            "type": "scatterpolargl"
           }
          ],
          "scatterternary": [
           {
            "marker": {
             "colorbar": {
              "outlinewidth": 0,
              "ticks": ""
             }
            },
            "type": "scatterternary"
           }
          ],
          "surface": [
           {
            "colorbar": {
             "outlinewidth": 0,
             "ticks": ""
            },
            "colorscale": [
             [
              0,
              "#0d0887"
             ],
             [
              0.1111111111111111,
              "#46039f"
             ],
             [
              0.2222222222222222,
              "#7201a8"
             ],
             [
              0.3333333333333333,
              "#9c179e"
             ],
             [
              0.4444444444444444,
              "#bd3786"
             ],
             [
              0.5555555555555556,
              "#d8576b"
             ],
             [
              0.6666666666666666,
              "#ed7953"
             ],
             [
              0.7777777777777778,
              "#fb9f3a"
             ],
             [
              0.8888888888888888,
              "#fdca26"
             ],
             [
              1,
              "#f0f921"
             ]
            ],
            "type": "surface"
           }
          ],
          "table": [
           {
            "cells": {
             "fill": {
              "color": "#EBF0F8"
             },
             "line": {
              "color": "white"
             }
            },
            "header": {
             "fill": {
              "color": "#C8D4E3"
             },
             "line": {
              "color": "white"
             }
            },
            "type": "table"
           }
          ]
         },
         "layout": {
          "annotationdefaults": {
           "arrowcolor": "#2a3f5f",
           "arrowhead": 0,
           "arrowwidth": 1
          },
          "autotypenumbers": "strict",
          "coloraxis": {
           "colorbar": {
            "outlinewidth": 0,
            "ticks": ""
           }
          },
          "colorscale": {
           "diverging": [
            [
             0,
             "#8e0152"
            ],
            [
             0.1,
             "#c51b7d"
            ],
            [
             0.2,
             "#de77ae"
            ],
            [
             0.3,
             "#f1b6da"
            ],
            [
             0.4,
             "#fde0ef"
            ],
            [
             0.5,
             "#f7f7f7"
            ],
            [
             0.6,
             "#e6f5d0"
            ],
            [
             0.7,
             "#b8e186"
            ],
            [
             0.8,
             "#7fbc41"
            ],
            [
             0.9,
             "#4d9221"
            ],
            [
             1,
             "#276419"
            ]
           ],
           "sequential": [
            [
             0,
             "#0d0887"
            ],
            [
             0.1111111111111111,
             "#46039f"
            ],
            [
             0.2222222222222222,
             "#7201a8"
            ],
            [
             0.3333333333333333,
             "#9c179e"
            ],
            [
             0.4444444444444444,
             "#bd3786"
            ],
            [
             0.5555555555555556,
             "#d8576b"
            ],
            [
             0.6666666666666666,
             "#ed7953"
            ],
            [
             0.7777777777777778,
             "#fb9f3a"
            ],
            [
             0.8888888888888888,
             "#fdca26"
            ],
            [
             1,
             "#f0f921"
            ]
           ],
           "sequentialminus": [
            [
             0,
             "#0d0887"
            ],
            [
             0.1111111111111111,
             "#46039f"
            ],
            [
             0.2222222222222222,
             "#7201a8"
            ],
            [
             0.3333333333333333,
             "#9c179e"
            ],
            [
             0.4444444444444444,
             "#bd3786"
            ],
            [
             0.5555555555555556,
             "#d8576b"
            ],
            [
             0.6666666666666666,
             "#ed7953"
            ],
            [
             0.7777777777777778,
             "#fb9f3a"
            ],
            [
             0.8888888888888888,
             "#fdca26"
            ],
            [
             1,
             "#f0f921"
            ]
           ]
          },
          "colorway": [
           "#636efa",
           "#EF553B",
           "#00cc96",
           "#ab63fa",
           "#FFA15A",
           "#19d3f3",
           "#FF6692",
           "#B6E880",
           "#FF97FF",
           "#FECB52"
          ],
          "font": {
           "color": "#2a3f5f"
          },
          "geo": {
           "bgcolor": "white",
           "lakecolor": "white",
           "landcolor": "#E5ECF6",
           "showlakes": true,
           "showland": true,
           "subunitcolor": "white"
          },
          "hoverlabel": {
           "align": "left"
          },
          "hovermode": "closest",
          "mapbox": {
           "style": "light"
          },
          "paper_bgcolor": "white",
          "plot_bgcolor": "#E5ECF6",
          "polar": {
           "angularaxis": {
            "gridcolor": "white",
            "linecolor": "white",
            "ticks": ""
           },
           "bgcolor": "#E5ECF6",
           "radialaxis": {
            "gridcolor": "white",
            "linecolor": "white",
            "ticks": ""
           }
          },
          "scene": {
           "xaxis": {
            "backgroundcolor": "#E5ECF6",
            "gridcolor": "white",
            "gridwidth": 2,
            "linecolor": "white",
            "showbackground": true,
            "ticks": "",
            "zerolinecolor": "white"
           },
           "yaxis": {
            "backgroundcolor": "#E5ECF6",
            "gridcolor": "white",
            "gridwidth": 2,
            "linecolor": "white",
            "showbackground": true,
            "ticks": "",
            "zerolinecolor": "white"
           },
           "zaxis": {
            "backgroundcolor": "#E5ECF6",
            "gridcolor": "white",
            "gridwidth": 2,
            "linecolor": "white",
            "showbackground": true,
            "ticks": "",
            "zerolinecolor": "white"
           }
          },
          "shapedefaults": {
           "line": {
            "color": "#2a3f5f"
           }
          },
          "ternary": {
           "aaxis": {
            "gridcolor": "white",
            "linecolor": "white",
            "ticks": ""
           },
           "baxis": {
            "gridcolor": "white",
            "linecolor": "white",
            "ticks": ""
           },
           "bgcolor": "#E5ECF6",
           "caxis": {
            "gridcolor": "white",
            "linecolor": "white",
            "ticks": ""
           }
          },
          "title": {
           "x": 0.05
          },
          "xaxis": {
           "automargin": true,
           "gridcolor": "white",
           "linecolor": "white",
           "ticks": "",
           "title": {
            "standoff": 15
           },
           "zerolinecolor": "white",
           "zerolinewidth": 2
          },
          "yaxis": {
           "automargin": true,
           "gridcolor": "white",
           "linecolor": "white",
           "ticks": "",
           "title": {
            "standoff": 15
           },
           "zerolinecolor": "white",
           "zerolinewidth": 2
          }
         }
        },
        "title": {
         "text": "Distribution of Diabetesby Different Risk Factors"
        }
       }
      }
     },
     "metadata": {},
     "output_type": "display_data"
    }
   ],
   "source": [
    "import plotly.graph_objects as go\n",
    "##----------------------------------------------------\n",
    "# Prepare the tapul for each column \n",
    "\n",
    "\n",
    "# heart_disease\n",
    "heart_disease_df = df.groupby([\"diabetes\",\"heart_disease\"])[\"diabetes\"].count().reset_index(name=\"count\")\n",
    "heart_disease_df = heart_disease_df.loc[heart_disease_df[\"diabetes\"] == 1]\n",
    "\n",
    "# hypertension\n",
    "hypertension_df = df.groupby([\"diabetes\",\"hypertension\"])[\"diabetes\"].count().reset_index(name=\"count\")\n",
    "hypertension_df = hypertension_df.loc[hypertension_df[\"diabetes\"] == 1]\n",
    "\n",
    "# is_fat\n",
    "is_fat_df = df.groupby([\"diabetes\",\"is_fat\"])[\"diabetes\"].count().reset_index(name=\"count\")\n",
    "is_fat_df = is_fat_df.loc[is_fat_df[\"diabetes\"] == 1]\n",
    "\n",
    "# risk_age\n",
    "risk_age_df = df.groupby([\"diabetes\",\"risk_age\"])[\"diabetes\"].count().reset_index(name=\"count\")\n",
    "risk_age_df = risk_age_df.loc[risk_age_df[\"diabetes\"] == 1]\n",
    "\n",
    "# glucose_risk_level\n",
    "glucose_risk_level_df = df.groupby([\"diabetes\",\"glucose_risk_level\"])[\"diabetes\"].count().reset_index(name=\"count\")\n",
    "glucose_risk_level_df = glucose_risk_level_df.loc[glucose_risk_level_df[\"diabetes\"] == 1]\n",
    "\n",
    "# hba1c_risk_score\n",
    "hba1c_risk_score_df = df.groupby([\"diabetes\",\"hba1c_risk_score\"])[\"diabetes\"].count().reset_index(name=\"count\")\n",
    "hba1c_risk_score_df = hba1c_risk_score_df.loc[hba1c_risk_score_df[\"diabetes\"] == 1]\n",
    "\n",
    "\n",
    "\n",
    "\n",
    "\n",
    "# -------------------------------------------------------------------------------\n",
    "## miking the plot \n",
    "fig = make_subplots(rows=2, cols=3, specs=[[{'type':'domain'}]*3, [{'type':'domain'}]*3],\n",
    "                    subplot_titles=(\n",
    "                        \"Heart Disease & Diabetes\",\n",
    "                        \"Hypertension & Diabetes\",\n",
    "                        \"Is Fat & Diabetes\",\n",
    "                        \"Risk Age & Diabetes\",\n",
    "                        \"Glucose Risk Level & Diabetes\",\n",
    "                        \"HbA1c Risk Score & Diabetes\"\n",
    "                    ))\n",
    "\n",
    "fig.add_trace(go.Pie(labels=heart_disease_df['heart_disease'],\n",
    "                     values=heart_disease_df['count'],\n",
    "                     name=\"Heart Disease\"),\n",
    "              row=1, col=1)\n",
    "\n",
    "fig.add_trace(go.Pie(labels=hypertension_df['hypertension'],\n",
    "                     values=hypertension_df['count'],\n",
    "                     name=\"Hypertension\"),\n",
    "              row=1, col=2)\n",
    "\n",
    "fig.add_trace(go.Pie(labels=is_fat_df['is_fat'],\n",
    "                     values=is_fat_df['count'],\n",
    "                     name=\"Is Fat\"),\n",
    "              row=1, col=3)\n",
    "\n",
    "fig.add_trace(go.Pie(labels=risk_age_df['risk_age'],\n",
    "                     values=risk_age_df['count'],\n",
    "                     name=\"Risk Age\"),\n",
    "              row=2, col=1)\n",
    "\n",
    "fig.add_trace(go.Pie(labels=glucose_risk_level_df['glucose_risk_level'],\n",
    "                     values=glucose_risk_level_df['count'],\n",
    "                     name=\"Glucose Risk\"),\n",
    "              row=2, col=2)\n",
    "\n",
    "fig.add_trace(go.Pie(labels=hba1c_risk_score_df['hba1c_risk_score'],\n",
    "                     values=hba1c_risk_score_df['count'],\n",
    "                     name=\"HbA1c Risk\"),\n",
    "              row=2, col=3)\n",
    "\n",
    "fig.update_layout(title_text=\"Distribution of Diabetesby Different Risk Factors\",\n",
    "                  height=700,\n",
    "                  showlegend=False)\n",
    "\n",
    "fig.show()"
   ]
  },
  {
   "cell_type": "markdown",
   "id": "bd0dd837",
   "metadata": {},
   "source": [
    "## Conclusion from this chart\n",
    "* 1- 14.9% of people with diabetes have Heart Disease , if the person have Heart Disease his diabetes risk is 14.9%\n",
    "* 2- 24.6% of people with diabetes have Heart Hypertension , if the person have Hypertension his diabetes risk is 24.6%\n",
    "* 3- 89.1% of people with diabetes are fat , if the person is fat his diabetes risk is 89.1%\n",
    "* 4- 58.1% of people with diabetes are older people , if the person is over 60 years old his diabetes risk is 58.1\n",
    "* 5- 46.2% of people with diabetes them glucose level is high then 199, and 30.9% of people with diabetes them glucose level is high then 140\n",
    "* and 23% of people with diabetes them glucose level is less than 144\n",
    "* 6- 61.1% of people with diabetes them HbA1c scor is more then 6.5, and 22.9% of people with diabetes them HbA1c scor is more then 6 ,\n",
    "* and 16% of people with diabetes them HbA1c scor is more then 5.7"
   ]
  },
  {
   "cell_type": "markdown",
   "id": "d6e19afd",
   "metadata": {},
   "source": [
    "### 4) Pre-Processing Mind Map:\n",
    "* a- Detect & Handle Duplicates\n",
    "* b- train_test_split\n",
    "* c- Detect & Handle NaNs\n",
    "* d- Detect & Handle Outliers\n",
    "* e- Encoding: (Ordinal:[OrdinalEncoder, LabelEncoder] - Nominal: [< 7 uniques(OneHotEncoding), > 7 uniques (BinaryEncoder)])\n",
    "* f- Imbalanced: X_train_resampled\n",
    "* g- Scaling: StandardScaler, MinMaxScaler, RobustScaler: X_train_resampled_scaled"
   ]
  },
  {
   "cell_type": "code",
   "execution_count": 17,
   "id": "2dc01ea7",
   "metadata": {},
   "outputs": [
    {
     "name": "stdout",
     "output_type": "stream",
     "text": [
      "5211\n",
      "Removed Duplicate\n",
      "0\n"
     ]
    }
   ],
   "source": [
    "# a- Detect & Handle Duplicates\n",
    "print(df.duplicated().sum())\n",
    "# remove duplicate values\n",
    "df.drop_duplicates(inplace=True , ignore_index=True)\n",
    "print(\"Removed Duplicate\")\n",
    "print(df.duplicated().sum())\n"
   ]
  },
  {
   "cell_type": "code",
   "execution_count": 18,
   "id": "6af817cc",
   "metadata": {},
   "outputs": [],
   "source": [
    "# d- Detect & Handle Outliers for \"age\",\"bmi\",\"HbA1c_level\",\"blood_glucose_level\"\n",
    "\n",
    "len(detect_outliers(df , 0 ,[\"age\"])) / df.shape[0] * 100 # =  0.0%\n",
    "len(detect_outliers(df , 0 ,[\"bmi\"])) / df.shape[0] * 100 # = 5.5%\n",
    "len(detect_outliers(df , 0 ,[\"HbA1c_level\"])) / df.shape[0] * 100 # = 1.3%\n",
    "len(detect_outliers(df , 0 ,[\"blood_glucose_level\"])) / df.shape[0] * 100 # = 2.11%\n",
    "\n",
    "# 5.5 + 1.3 + 2.11 = 8.91% outliers\n",
    "\n",
    "len(detect_outliers(df , 0 ,[\"age\",\"bmi\",\"HbA1c_level\",\"blood_glucose_level\"])) # = 7919\n",
    "\n",
    "df[\"diabetes\"].value_counts(normalize=True ) * 100 # class 0 = 91.011582% of the data \n",
    "df.drop(index=detect_outliers(df , 0 ,[\"bmi\",\"HbA1c_level\",\"blood_glucose_level\"]))[\"diabetes\"].value_counts(normalize=True ) # class 0 = 94.609442% \n",
    "\n",
    "# all the outlier values in oclumn \"age\",\"bmi\",\"HbA1c_level\",\"blood_glucose_level\" belong to class 1 after drop them the class will decrease\n",
    "# so i will solve imbalanced after drop \n",
    "\n",
    "df.drop(index=detect_outliers(df , 0 ,[\"bmi\",\"HbA1c_level\",\"blood_glucose_level\"]) , inplace=True)"
   ]
  },
  {
   "cell_type": "code",
   "execution_count": 19,
   "id": "d5ca1297",
   "metadata": {},
   "outputs": [
    {
     "data": {
      "text/plain": [
       "((69761, 14), (17441, 14), (69761,), (17441,))"
      ]
     },
     "execution_count": 19,
     "metadata": {},
     "output_type": "execute_result"
    }
   ],
   "source": [
    "# b- train_test_split\n",
    "X = df.drop(columns=[\"diabetes\"])\n",
    "Y = df[\"diabetes\"]\n",
    "\n",
    "X_train, X_test, Y_train, Y_test = train_test_split(X, Y , test_size=0.2, shuffle=True, stratify=Y, random_state=42)\n",
    "X_train.shape, X_test.shape, Y_train.shape, Y_test.shape"
   ]
  },
  {
   "cell_type": "code",
   "execution_count": 20,
   "id": "3b781514",
   "metadata": {},
   "outputs": [],
   "source": [
    "# e- Encoding: (Ordinal:[OrdinalEncoder, LabelEncoder] - Nominal: [< 7 uniques(OneHotEncoding), > 7 uniques (BinaryEncoder)])\n",
    "\n",
    "#column 1- gender i have [\"Male\" , \"Female\" , \"Other\"] and the those values are Nominal so i will ues OneHotEncoding \n",
    "categorical_transformer = Pipeline(steps=[\n",
    "    ('imputer', SimpleImputer(strategy='most_frequent')),\n",
    "    ('onehot', OneHotEncoder(handle_unknown='ignore' , drop=None))\n",
    "])\n",
    "\n",
    "#column 2- smoking_history i made smoking_risk_level column and it has the same values so if i make Encoding to \n",
    "# smoking_history the model will see the values more than one time and the model maby will overfit so i will drop it \n",
    "X_train.drop(columns=[\"smoking_history\"] , inplace=True)\n",
    "X_test.drop(columns=[\"smoking_history\"] , inplace=True)"
   ]
  },
  {
   "cell_type": "code",
   "execution_count": 97,
   "id": "99ef084c",
   "metadata": {},
   "outputs": [
    {
     "data": {
      "text/plain": [
       "0"
      ]
     },
     "execution_count": 97,
     "metadata": {},
     "output_type": "execute_result"
    }
   ],
   "source": [
    "# c- Detect & Handle NaNs\n",
    "\n",
    "X_train.isna().sum() # = 0\n",
    "X_test.isna().sum()  # = 0\n",
    "\n",
    "Y_train.isna().sum() # = 0 \n",
    "Y_test.isna().sum() # = 0"
   ]
  },
  {
   "cell_type": "code",
   "execution_count": 98,
   "id": "f584c1d3",
   "metadata": {},
   "outputs": [
    {
     "data": {
      "image/png": "[encoded data removed]",
      "text/plain": [
       "<Figure size 1400x1000 with 4 Axes>"
      ]
     },
     "metadata": {},
     "output_type": "display_data"
    }
   ],
   "source": [
    "# g- Scaling: StandardScaler, MinMaxScaler, RobustScaler: X_train_resampled_scaled\n",
    "\n",
    "fig, axes = plt.subplots(2, 2, figsize=(14, 10))\n",
    "axes = axes.flatten()  \n",
    "\n",
    "sns.boxplot(data=X_train, y=\"bmi\", ax=axes[0])\n",
    "axes[0].set_title(\"BMI\")\n",
    "\n",
    "\n",
    "sns.boxplot(data=X_train, y=\"age\", ax=axes[1])\n",
    "axes[1].set_title(\"Age\")\n",
    "\n",
    "\n",
    "sns.boxplot(data=X_train, y=\"HbA1c_level\", ax=axes[2])\n",
    "axes[2].set_title(\"HbA1c\")\n",
    "\n",
    "\n",
    "sns.boxplot(data=X_train, y=\"blood_glucose_level\", ax=axes[3])\n",
    "axes[3].set_title(\"Blood Glucose Level\")\n",
    "\n",
    "plt.tight_layout()\n",
    "plt.show()"
   ]
  },
  {
   "cell_type": "code",
   "execution_count": 21,
   "id": "f37509ac",
   "metadata": {},
   "outputs": [],
   "source": [
    "# g- Scaling: StandardScaler, MinMaxScaler, RobustScaler: X_train_resampled_scaled\n",
    "numeric_transformer = Pipeline(steps=[\n",
    "    ('imputer', SimpleImputer(strategy='mean')),  \n",
    "    ('scaler', RobustScaler())\n",
    "])"
   ]
  },
  {
   "cell_type": "code",
   "execution_count": 22,
   "id": "8b04ffbd",
   "metadata": {},
   "outputs": [],
   "source": [
    "# Making transformer to concatenate numerical pipeline and categorical pipeline\n",
    "numeric_features = [\"age\", \"bmi\", \"HbA1c_level\", \"blood_glucose_level\", \"risk_score\"]\n",
    "categorical_features = ['gender']\n",
    "\n",
    "preprocessor = ColumnTransformer(\n",
    "    transformers=[\n",
    "        ('numeric', numeric_transformer, numeric_features),\n",
    "        ('categorical', categorical_transformer, categorical_features)\n",
    "    ],\n",
    "    remainder='passthrough'\n",
    ")"
   ]
  },
  {
   "cell_type": "code",
   "execution_count": 101,
   "id": "a0dc6291",
   "metadata": {},
   "outputs": [
    {
     "data": {
      "text/plain": [
       "0    94.681842\n",
       "1     5.318158\n",
       "Name: diabetes, dtype: float64"
      ]
     },
     "execution_count": 101,
     "metadata": {},
     "output_type": "execute_result"
    }
   ],
   "source": [
    "# Imbalanced\n",
    "Y_train.value_counts(normalize=True ) * 100 # the target column is Imbalanced"
   ]
  },
  {
   "cell_type": "markdown",
   "id": "0b98b88e",
   "metadata": {},
   "source": [
    "#### 5) Modeling\n",
    "\n",
    "* 1) Simple Model & Evaluate it's Performance\n",
    "* 2) Bias vs Variance (Underfitting vs Overfitting)\n",
    "* 3) GridSearch\n",
    "* 4) Test Perforamnce\n",
    "* 5) Save Model"
   ]
  },
  {
   "cell_type": "markdown",
   "id": "1ad5050e",
   "metadata": {},
   "source": [
    "# 1) Simple Model & Evaluate it's Performan\n",
    "## imbalanced solving\n",
    "* 1) undersampling\n",
    "* 2) oversampling"
   ]
  },
  {
   "cell_type": "code",
   "execution_count": null,
   "id": "f326e6a8",
   "metadata": {},
   "outputs": [
    {
     "name": "stdout",
     "output_type": "stream",
     "text": [
      "At fold 1\n",
      "At fold 2\n",
      "At fold 3\n",
      "At fold 4\n",
      "At fold 5\n",
      "Train Accuracy: 0.8559653674689296\n",
      "Average Valid Accuracy: 0.8568397203965212\n"
     ]
    }
   ],
   "source": [
    "# oversampling with Simple Model\n",
    "\n",
    "Logistic_with_Smote = Pipeline([\n",
    "        (\"preprocessor\" , preprocessor) ,\n",
    "        ( 'smote' , SMOTE(random_state=42)),\n",
    "        ('Logistic_model',  LogisticRegression(random_state=42 ,C=1 , max_iter=10000 ))\n",
    "    ])\n",
    "\n",
    "\n",
    "Logistic_with_Smote.fit(X_train , Y_train)\n",
    "\n",
    "y_trin_pred = Logistic_with_Smote.predict(X_train)\n",
    "\n",
    "Train_Accuracy = accuracy_score(Y_train, y_trin_pred)\n",
    "\n",
    "valid_accuracy_score = []\n",
    "skfolds = StratifiedKFold(n_splits=5)\n",
    "i = 1\n",
    "\n",
    "\n",
    "for train_indx, valid_indx in skfolds.split(X_train, Y_train): \n",
    "    \n",
    "    print(f\"At fold {i}\")\n",
    "    X_train_fold = X_train.iloc[train_indx]\n",
    "    y_train_fold = Y_train.iloc[train_indx]\n",
    "    X_valid_fold = X_train.iloc[valid_indx]\n",
    "    y_valid_fold = Y_train.iloc[valid_indx]\n",
    "    \n",
    "   \n",
    "\n",
    "    Logistic_with_Smote.fit(X_train_fold , y_train_fold)\n",
    "    y_valid_pred = Logistic_with_Smote.predict(X_valid_fold)\n",
    "    \n",
    "    valid_accuracy_score.append(accuracy_score(y_valid_fold, y_valid_pred))\n",
    "    i += 1\n",
    "\n",
    "Valid_Accuracy = np.mean(valid_accuracy_score)\n",
    "\n",
    "print(f\"Train Accuracy: {Train_Accuracy}\") \n",
    "print(f\"Average Valid Accuracy: {Valid_Accuracy}\")"
   ]
  },
  {
   "cell_type": "code",
   "execution_count": null,
   "id": "3b3613ca",
   "metadata": {},
   "outputs": [
    {
     "name": "stdout",
     "output_type": "stream",
     "text": [
      "At fold 1\n",
      "At fold 2\n",
      "At fold 3\n",
      "At fold 4\n",
      "At fold 5\n",
      "Train Accuracy: 0.8568971201674288\n",
      "Average Valid Accuracy: 0.8544745626207775\n"
     ]
    }
   ],
   "source": [
    "# undersampling with Simple Model\n",
    "\n",
    "Logistic_with_rus = Pipeline([\n",
    "        (\"preprocessor\" , preprocessor) ,\n",
    "        ( 'rus' , RandomUnderSampler(random_state=42)),\n",
    "        ('Logistic_model',  LogisticRegression(random_state=42 ,C=1 , max_iter=10000 ))\n",
    "    ])\n",
    "\n",
    "\n",
    "Logistic_with_rus.fit(X_train , Y_train)\n",
    "\n",
    "y_trin_pred = Logistic_with_rus.predict(X_train)\n",
    "\n",
    "Train_Accuracy = accuracy_score(Y_train, y_trin_pred)\n",
    "\n",
    "\n",
    "valid_accuracy_score = []\n",
    "skfolds = StratifiedKFold(n_splits=5)\n",
    "i = 1\n",
    "\n",
    "\n",
    "for train_indx, valid_indx in skfolds.split(X_train, Y_train): \n",
    "    \n",
    "    print(f\"At fold {i}\")\n",
    "    X_train_fold = X_train.iloc[train_indx]\n",
    "    y_train_fold = Y_train.iloc[train_indx]\n",
    "    X_valid_fold = X_train.iloc[valid_indx]\n",
    "    y_valid_fold = Y_train.iloc[valid_indx]\n",
    "    \n",
    "   \n",
    "\n",
    "    Logistic_with_rus.fit(X_train_fold , y_train_fold)\n",
    "    y_valid_pred = Logistic_with_rus.predict(X_valid_fold)\n",
    "    \n",
    "    valid_accuracy_score.append(accuracy_score(y_valid_fold, y_valid_pred))\n",
    "    i += 1\n",
    "\n",
    "Valid_Accuracy = np.mean(valid_accuracy_score)\n",
    "\n",
    "print(f\"Train Accuracy: {Train_Accuracy}\") \n",
    "print(f\"Average Valid Accuracy: {Valid_Accuracy}\")"
   ]
  },
  {
   "cell_type": "markdown",
   "id": "540412b5",
   "metadata": {},
   "source": [
    "# 2) Bias vs Variance (Underfitting vs Overfitting)\n",
    "## Train more complex model"
   ]
  },
  {
   "cell_type": "markdown",
   "id": "421351d8",
   "metadata": {},
   "source": [
    "# KNeighborsClassifier with (undersampling and oversampling )"
   ]
  },
  {
   "cell_type": "code",
   "execution_count": null,
   "id": "811d4978",
   "metadata": {},
   "outputs": [
    {
     "name": "stdout",
     "output_type": "stream",
     "text": [
      "Fitting 5 folds for each of 2 candidates, totalling 10 fits\n",
      "At fold 1\n",
      "Fitting 5 folds for each of 2 candidates, totalling 10 fits\n",
      "At fold 2\n",
      "Fitting 5 folds for each of 2 candidates, totalling 10 fits\n",
      "At fold 3\n",
      "Fitting 5 folds for each of 2 candidates, totalling 10 fits\n",
      "At fold 4\n",
      "Fitting 5 folds for each of 2 candidates, totalling 10 fits\n",
      "At fold 5\n",
      "Fitting 5 folds for each of 2 candidates, totalling 10 fits\n",
      "Train Accuracy: 0.8339473344705495\n",
      "Average Valid Accuracy: 0.8328149852026167\n"
     ]
    }
   ],
   "source": [
    "# undersampling with KNeighborsClassifier\n",
    "\n",
    "knn_with_rus = Pipeline([\n",
    "        (\"preprocessor\" , preprocessor) ,\n",
    "        ( 'rus' , RandomUnderSampler(random_state=42)),\n",
    "        ('knn',  KNeighborsClassifier())\n",
    "    ])\n",
    "params = {\n",
    "    'knn__n_neighbors': [31],\n",
    "    'knn__weights': ['uniform'],\n",
    "    'knn__algorithm': ['auto'],\n",
    "    'knn__leaf_size': [30, 40],\n",
    "}\n",
    "grid_search = GridSearchCV(estimator=knn_with_rus,\n",
    "                            param_grid=params,\n",
    "                            cv=5, n_jobs=-1, verbose=1)\n",
    "grid_search.fit(X_train , Y_train)\n",
    "y_trin_pred = grid_search.predict(X_train)\n",
    "Train_Accuracy = accuracy_score(Y_train, y_trin_pred)\n",
    "\n",
    "\n",
    "\n",
    "skfolds = StratifiedKFold(n_splits=5)\n",
    "i = 1\n",
    "valid_accuracy_score = []\n",
    "\n",
    "for train_indx, valid_indx in skfolds.split(X_train, Y_train): \n",
    "    \n",
    "    print(f\"At fold {i}\")\n",
    "    X_train_fold = X_train.iloc[train_indx]\n",
    "    y_train_fold = Y_train.iloc[train_indx]\n",
    "    X_valid_fold = X_train.iloc[valid_indx]\n",
    "    y_valid_fold = Y_train.iloc[valid_indx]\n",
    "    \n",
    "   \n",
    "\n",
    "    grid_search.fit(X_train_fold , y_train_fold)\n",
    "    y_valid_pred = grid_search.predict(X_valid_fold)\n",
    "    \n",
    "    valid_accuracy_score.append(accuracy_score(y_valid_fold, y_valid_pred))\n",
    "    i += 1\n",
    "\n",
    "Valid_Accuracy = np.mean(valid_accuracy_score)\n",
    "\n",
    "print(f\"Train Accuracy: {Train_Accuracy}\") \n",
    "print(f\"Average Valid Accuracy: {Valid_Accuracy}\")\n"
   ]
  },
  {
   "cell_type": "code",
   "execution_count": null,
   "id": "fbdd4922",
   "metadata": {},
   "outputs": [
    {
     "name": "stdout",
     "output_type": "stream",
     "text": [
      "Fitting 5 folds for each of 1 candidates, totalling 5 fits\n",
      "At fold 1\n",
      "Fitting 5 folds for each of 1 candidates, totalling 5 fits\n",
      "At fold 2\n",
      "Fitting 5 folds for each of 1 candidates, totalling 5 fits\n",
      "At fold 3\n",
      "Fitting 5 folds for each of 1 candidates, totalling 5 fits\n",
      "At fold 4\n",
      "Fitting 5 folds for each of 1 candidates, totalling 5 fits\n",
      "At fold 5\n",
      "Fitting 5 folds for each of 1 candidates, totalling 5 fits\n",
      "Train Accuracy: 0.8248591619959577\n",
      "Average Valid Accuracy: 0.8217341848650482\n"
     ]
    }
   ],
   "source": [
    "# oversampling with KNeighborsClassifier\n",
    "\n",
    "knn_with_Smote = Pipeline([\n",
    "        (\"preprocessor\" , preprocessor) ,\n",
    "        ( 'smote' , SMOTE(random_state=42)),\n",
    "        ('knn',  KNeighborsClassifier())\n",
    "    ])\n",
    "params = {\n",
    "    'knn__n_neighbors': [99],\n",
    "    'knn__weights': ['uniform'],\n",
    "    'knn__algorithm': ['auto'],\n",
    "    'knn__leaf_size': [2],\n",
    "}\n",
    "grid_search = GridSearchCV(estimator=knn_with_Smote,\n",
    "                            param_grid=params,\n",
    "                            cv=5, n_jobs=-1, verbose=1)\n",
    "grid_search.fit(X_train , Y_train)\n",
    "y_trin_pred = grid_search.predict(X_train)\n",
    "Train_Accuracy = accuracy_score(Y_train, y_trin_pred)\n",
    "\n",
    "\n",
    "\n",
    "skfolds = StratifiedKFold(n_splits=5)\n",
    "i = 1\n",
    "valid_accuracy_score = []\n",
    "\n",
    "for train_indx, valid_indx in skfolds.split(X_train, Y_train): \n",
    "    \n",
    "    print(f\"At fold {i}\")\n",
    "    X_train_fold = X_train.iloc[train_indx]\n",
    "    y_train_fold = Y_train.iloc[train_indx]\n",
    "    X_valid_fold = X_train.iloc[valid_indx]\n",
    "    y_valid_fold = Y_train.iloc[valid_indx]\n",
    "    \n",
    "   \n",
    "\n",
    "    grid_search.fit(X_train_fold , y_train_fold)\n",
    "    y_valid_pred = grid_search.predict(X_valid_fold)\n",
    "    \n",
    "    valid_accuracy_score.append(accuracy_score(y_valid_fold, y_valid_pred))\n",
    "    i += 1\n",
    "\n",
    "Valid_Accuracy = np.mean(valid_accuracy_score)\n",
    "\n",
    "print(f\"Train Accuracy: {Train_Accuracy}\") \n",
    "print(f\"Average Valid Accuracy: {Valid_Accuracy}\")"
   ]
  },
  {
   "cell_type": "markdown",
   "id": "cdd5e41a",
   "metadata": {},
   "source": [
    "# RandomForestClassifier with (undersampling and oversampling )"
   ]
  },
  {
   "cell_type": "code",
   "execution_count": null,
   "id": "4a6f5d2a",
   "metadata": {},
   "outputs": [
    {
     "name": "stdout",
     "output_type": "stream",
     "text": [
      "Fitting 5 folds for each of 1 candidates, totalling 5 fits\n",
      "At fold 1\n",
      "Fitting 5 folds for each of 1 candidates, totalling 5 fits\n",
      "At fold 2\n",
      "Fitting 5 folds for each of 1 candidates, totalling 5 fits\n",
      "At fold 3\n",
      "Fitting 5 folds for each of 1 candidates, totalling 5 fits\n",
      "At fold 4\n",
      "Fitting 5 folds for each of 1 candidates, totalling 5 fits\n",
      "At fold 5\n",
      "Fitting 5 folds for each of 1 candidates, totalling 5 fits\n",
      "Train Accuracy: 0.9943091412107051\n",
      "Average Valid Accuracy: 0.9604507064427301\n"
     ]
    }
   ],
   "source": [
    "# oversampling with RandomForestClassifier\n",
    "\n",
    "rf_with_Smote = Pipeline([\n",
    "        (\"preprocessor\" , preprocessor) ,\n",
    "        ( 'smote' , SMOTE(random_state=42)),\n",
    "        ('rf',  RandomForestClassifier(random_state=42))\n",
    "    ])\n",
    "params = {\n",
    "    \"rf__n_estimators\": [100],\n",
    "    \"rf__max_depth\": [30],\n",
    "    \"rf__min_samples_split\": [5],   \n",
    "}\n",
    "grid_search = GridSearchCV(estimator=rf_with_Smote,\n",
    "                            param_grid=params,\n",
    "                            cv=5, n_jobs=-1, verbose=1)\n",
    "grid_search.fit(X_train , Y_train)\n",
    "y_trin_pred = grid_search.predict(X_train)\n",
    "Train_Accuracy = accuracy_score(Y_train, y_trin_pred)\n",
    "\n",
    "\n",
    "\n",
    "skfolds = StratifiedKFold(n_splits=5)\n",
    "i = 1\n",
    "valid_accuracy_score = []\n",
    "\n",
    "for train_indx, valid_indx in skfolds.split(X_train, Y_train): \n",
    "    \n",
    "    print(f\"At fold {i}\")\n",
    "    X_train_fold = X_train.iloc[train_indx]\n",
    "    y_train_fold = Y_train.iloc[train_indx]\n",
    "    X_valid_fold = X_train.iloc[valid_indx]\n",
    "    y_valid_fold = Y_train.iloc[valid_indx]\n",
    "    \n",
    "   \n",
    "\n",
    "    grid_search.fit(X_train_fold , y_train_fold)\n",
    "    y_valid_pred = grid_search.predict(X_valid_fold)\n",
    "    \n",
    "    valid_accuracy_score.append(accuracy_score(y_valid_fold, y_valid_pred))\n",
    "    i += 1\n",
    "\n",
    "Valid_Accuracy = np.mean(valid_accuracy_score)\n",
    "\n",
    "print(f\"Train Accuracy: {Train_Accuracy}\") \n",
    "print(f\"Average Valid Accuracy: {Valid_Accuracy}\")"
   ]
  },
  {
   "cell_type": "code",
   "execution_count": null,
   "id": "4602db45",
   "metadata": {},
   "outputs": [
    {
     "name": "stdout",
     "output_type": "stream",
     "text": [
      "Fitting 5 folds for each of 1 candidates, totalling 5 fits\n",
      "At fold 1\n",
      "Fitting 5 folds for each of 1 candidates, totalling 5 fits\n",
      "At fold 2\n",
      "Fitting 5 folds for each of 1 candidates, totalling 5 fits\n",
      "At fold 3\n",
      "Fitting 5 folds for each of 1 candidates, totalling 5 fits\n",
      "At fold 4\n",
      "Fitting 5 folds for each of 1 candidates, totalling 5 fits\n",
      "At fold 5\n",
      "Fitting 5 folds for each of 1 candidates, totalling 5 fits\n",
      "Train Accuracy: 0.8685942001978183\n",
      "Average Valid Accuracy: 0.8552630098456351\n"
     ]
    }
   ],
   "source": [
    "# undersampling with RandomForestClassifier\n",
    "\n",
    "rf_with_rus = Pipeline([\n",
    "        (\"preprocessor\" , preprocessor) ,\n",
    "        ( 'rus' , RandomUnderSampler(random_state=42)),\n",
    "        ('rf',  RandomForestClassifier(random_state=42))\n",
    "    ])\n",
    "params = {\n",
    "    \"rf__n_estimators\": [100],\n",
    "    \"rf__max_depth\": [30],\n",
    "    \"rf__min_samples_split\": [5],   \n",
    "}\n",
    "grid_search = GridSearchCV(estimator=rf_with_rus,\n",
    "                            param_grid=params,\n",
    "                            cv=5, n_jobs=-1, verbose=1)\n",
    "grid_search.fit(X_train , Y_train)\n",
    "y_trin_pred = grid_search.predict(X_train)\n",
    "Train_Accuracy = accuracy_score(Y_train, y_trin_pred)\n",
    "\n",
    "\n",
    "\n",
    "skfolds = StratifiedKFold(n_splits=5)\n",
    "i = 1\n",
    "valid_accuracy_score = []\n",
    "\n",
    "for train_indx, valid_indx in skfolds.split(X_train, Y_train): \n",
    "    \n",
    "    print(f\"At fold {i}\")\n",
    "    X_train_fold = X_train.iloc[train_indx]\n",
    "    y_train_fold = Y_train.iloc[train_indx]\n",
    "    X_valid_fold = X_train.iloc[valid_indx]\n",
    "    y_valid_fold = Y_train.iloc[valid_indx]\n",
    "    \n",
    "   \n",
    "\n",
    "    grid_search.fit(X_train_fold , y_train_fold)\n",
    "    y_valid_pred = grid_search.predict(X_valid_fold)\n",
    "    \n",
    "    valid_accuracy_score.append(accuracy_score(y_valid_fold, y_valid_pred))\n",
    "    i += 1\n",
    "\n",
    "Valid_Accuracy = np.mean(valid_accuracy_score)\n",
    "\n",
    "print(f\"Train Accuracy: {Train_Accuracy}\") \n",
    "print(f\"Average Valid Accuracy: {Valid_Accuracy}\")"
   ]
  },
  {
   "cell_type": "markdown",
   "id": "3fd4d1c5",
   "metadata": {},
   "source": [
    "# DecisionTreeClassifier with (undersampling and oversampling )"
   ]
  },
  {
   "cell_type": "code",
   "execution_count": null,
   "id": "29b1c227",
   "metadata": {},
   "outputs": [
    {
     "name": "stdout",
     "output_type": "stream",
     "text": [
      "Fitting 5 folds for each of 1 candidates, totalling 5 fits\n",
      "At fold 1\n",
      "Fitting 5 folds for each of 1 candidates, totalling 5 fits\n",
      "At fold 2\n",
      "Fitting 5 folds for each of 1 candidates, totalling 5 fits\n",
      "At fold 3\n",
      "Fitting 5 folds for each of 1 candidates, totalling 5 fits\n",
      "At fold 4\n",
      "Fitting 5 folds for each of 1 candidates, totalling 5 fits\n",
      "At fold 5\n",
      "Fitting 5 folds for each of 1 candidates, totalling 5 fits\n",
      "Train Accuracy: 0.957841774057138\n",
      "Average Valid Accuracy: 0.9413282804921108\n"
     ]
    }
   ],
   "source": [
    "# oversampling with RandomForestClassifier\n",
    "\n",
    "dt_with_Smote = Pipeline([\n",
    "        (\"preprocessor\" , preprocessor) ,\n",
    "        ( 'smote' , SMOTE(random_state=42)),\n",
    "        ('dt', DecisionTreeClassifier(random_state=42))\n",
    "    ])\n",
    "params = {\n",
    "    'dt__criterion': ['entropy'],\n",
    "    'dt__max_depth': [20],\n",
    "    'dt__min_samples_split': [10],\n",
    "    'dt__min_samples_leaf': [10 ],\n",
    "}\n",
    "grid_search = GridSearchCV(estimator=dt_with_Smote,\n",
    "                            param_grid=params, \n",
    "                            cv=5, n_jobs=-1, verbose=1)\n",
    "grid_search.fit(X_train , Y_train)\n",
    "y_trin_pred = grid_search.predict(X_train)\n",
    "Train_Accuracy = accuracy_score(Y_train, y_trin_pred)\n",
    "\n",
    "skfolds = StratifiedKFold(n_splits=5)\n",
    "i = 1\n",
    "valid_accuracy_score = []\n",
    "\n",
    "for train_indx, valid_indx in skfolds.split(X_train, Y_train): \n",
    "    \n",
    "    print(f\"At fold {i}\")\n",
    "    X_train_fold = X_train.iloc[train_indx]\n",
    "    y_train_fold = Y_train.iloc[train_indx]\n",
    "    X_valid_fold = X_train.iloc[valid_indx]\n",
    "    y_valid_fold = Y_train.iloc[valid_indx]\n",
    "    \n",
    "   \n",
    "\n",
    "    grid_search.fit(X_train_fold , y_train_fold)\n",
    "    y_valid_pred = grid_search.predict(X_valid_fold)\n",
    "    \n",
    "    valid_accuracy_score.append(accuracy_score(y_valid_fold, y_valid_pred))\n",
    "    i += 1\n",
    "\n",
    "Valid_Accuracy = np.mean(valid_accuracy_score)\n",
    "\n",
    "print(f\"Train Accuracy: {Train_Accuracy}\") \n",
    "print(f\"Average Valid Accuracy: {Valid_Accuracy}\")"
   ]
  },
  {
   "cell_type": "code",
   "execution_count": null,
   "id": "2f9385d9",
   "metadata": {},
   "outputs": [
    {
     "name": "stdout",
     "output_type": "stream",
     "text": [
      "Fitting 5 folds for each of 1 candidates, totalling 5 fits\n",
      "At fold 1\n",
      "Fitting 5 folds for each of 1 candidates, totalling 5 fits\n",
      "At fold 2\n",
      "Fitting 5 folds for each of 1 candidates, totalling 5 fits\n",
      "At fold 3\n",
      "Fitting 5 folds for each of 1 candidates, totalling 5 fits\n",
      "At fold 4\n",
      "Fitting 5 folds for each of 1 candidates, totalling 5 fits\n",
      "At fold 5\n",
      "Fitting 5 folds for each of 1 candidates, totalling 5 fits\n",
      "Train Accuracy: 0.8643654764123221\n",
      "Average Valid Accuracy: 0.8632616699115049\n"
     ]
    }
   ],
   "source": [
    "# undersampling with RandomForestClassifier\n",
    "\n",
    "dt_with_rus = Pipeline([\n",
    "        (\"preprocessor\" , preprocessor) ,\n",
    "        ( 'rus' , RandomUnderSampler(random_state=42)),\n",
    "        ('dt', DecisionTreeClassifier(random_state=42))\n",
    "    ])\n",
    "params = {\n",
    "    'dt__criterion': ['entropy'],\n",
    "    'dt__max_depth': [20],\n",
    "    'dt__min_samples_split': [10],\n",
    "    'dt__min_samples_leaf': [10 ],\n",
    "}\n",
    "grid_search = GridSearchCV(estimator=dt_with_rus,\n",
    "                            param_grid=params, \n",
    "                            cv=5, n_jobs=-1, verbose=1)\n",
    "grid_search.fit(X_train , Y_train)\n",
    "y_trin_pred = grid_search.predict(X_train)\n",
    "Train_Accuracy = accuracy_score(Y_train, y_trin_pred)\n",
    "\n",
    "skfolds = StratifiedKFold(n_splits=5)\n",
    "i = 1\n",
    "valid_accuracy_score = []\n",
    "\n",
    "for train_indx, valid_indx in skfolds.split(X_train, Y_train): \n",
    "    \n",
    "    print(f\"At fold {i}\")\n",
    "    X_train_fold = X_train.iloc[train_indx]\n",
    "    y_train_fold = Y_train.iloc[train_indx]\n",
    "    X_valid_fold = X_train.iloc[valid_indx]\n",
    "    y_valid_fold = Y_train.iloc[valid_indx]\n",
    "    \n",
    "   \n",
    "\n",
    "    grid_search.fit(X_train_fold , y_train_fold)\n",
    "    y_valid_pred = grid_search.predict(X_valid_fold)\n",
    "    \n",
    "    valid_accuracy_score.append(accuracy_score(y_valid_fold, y_valid_pred))\n",
    "    i += 1\n",
    "\n",
    "Valid_Accuracy = np.mean(valid_accuracy_score)\n",
    "\n",
    "print(f\"Train Accuracy: {Train_Accuracy}\") \n",
    "print(f\"Average Valid Accuracy: {Valid_Accuracy}\")"
   ]
  },
  {
   "cell_type": "markdown",
   "id": "6d333379",
   "metadata": {},
   "source": [
    "# SVC with (undersampling and oversampling )"
   ]
  },
  {
   "cell_type": "code",
   "execution_count": null,
   "id": "14ac9fdc",
   "metadata": {},
   "outputs": [
    {
     "name": "stdout",
     "output_type": "stream",
     "text": [
      "Fitting 5 folds for each of 1 candidates, totalling 5 fits\n",
      "At fold 1\n",
      "Fitting 5 folds for each of 1 candidates, totalling 5 fits\n",
      "At fold 2\n",
      "Fitting 5 folds for each of 1 candidates, totalling 5 fits\n",
      "At fold 3\n",
      "Fitting 5 folds for each of 1 candidates, totalling 5 fits\n",
      "At fold 4\n",
      "Fitting 5 folds for each of 1 candidates, totalling 5 fits\n",
      "At fold 5\n",
      "Fitting 5 folds for each of 1 candidates, totalling 5 fits\n",
      "Train Accuracy: 0.8468628603374379\n",
      "Average Valid Accuracy: 0.8477229009972536\n"
     ]
    }
   ],
   "source": [
    "# oversampling svc Classifier\n",
    "\n",
    "SVC_with_Smote = Pipeline([\n",
    "        (\"preprocessor\" , preprocessor) ,\n",
    "        ( 'smote' , SMOTE(random_state=42)),\n",
    "        ('SVC',SVC(random_state=42))\n",
    "    ])\n",
    "params = {\n",
    "    'SVC__C': [1],\n",
    "    'SVC__kernel': ['poly'],\n",
    "    'SVC__gamma': ['auto'],\n",
    "    'SVC__degree': [2]  \n",
    "}\n",
    "grid_search = GridSearchCV(estimator=SVC_with_Smote,\n",
    "                            param_grid=params, cv=5, \n",
    "                            n_jobs=-1, verbose=1)\n",
    "grid_search.fit(X_train , Y_train)\n",
    "y_trin_pred = grid_search.predict(X_train)\n",
    "Train_Accuracy = accuracy_score(Y_train, y_trin_pred)\n",
    "\n",
    "skfolds = StratifiedKFold(n_splits=5)\n",
    "i = 1\n",
    "valid_accuracy_score = []\n",
    "\n",
    "for train_indx, valid_indx in skfolds.split(X_train, Y_train): \n",
    "    \n",
    "    print(f\"At fold {i}\")\n",
    "    X_train_fold = X_train.iloc[train_indx]\n",
    "    y_train_fold = Y_train.iloc[train_indx]\n",
    "    X_valid_fold = X_train.iloc[valid_indx]\n",
    "    y_valid_fold = Y_train.iloc[valid_indx]\n",
    "    \n",
    "   \n",
    "\n",
    "    grid_search.fit(X_train_fold , y_train_fold)\n",
    "    y_valid_pred = grid_search.predict(X_valid_fold)\n",
    "    \n",
    "    valid_accuracy_score.append(accuracy_score(y_valid_fold, y_valid_pred))\n",
    "    i += 1\n",
    "\n",
    "Valid_Accuracy = np.mean(valid_accuracy_score)\n",
    "\n",
    "print(f\"Train Accuracy: {Train_Accuracy}\") \n",
    "print(f\"Average Valid Accuracy: {Valid_Accuracy}\")"
   ]
  },
  {
   "cell_type": "code",
   "execution_count": null,
   "id": "93ed2f2c",
   "metadata": {},
   "outputs": [
    {
     "name": "stdout",
     "output_type": "stream",
     "text": [
      "Fitting 5 folds for each of 1 candidates, totalling 5 fits\n",
      "At fold 1\n",
      "Fitting 5 folds for each of 1 candidates, totalling 5 fits\n",
      "At fold 2\n",
      "Fitting 5 folds for each of 1 candidates, totalling 5 fits\n",
      "At fold 3\n",
      "Fitting 5 folds for each of 1 candidates, totalling 5 fits\n",
      "At fold 4\n",
      "Fitting 5 folds for each of 1 candidates, totalling 5 fits\n",
      "At fold 5\n",
      "Fitting 5 folds for each of 1 candidates, totalling 5 fits\n",
      "Train Accuracy: 0.8537004916787316\n",
      "Average Valid Accuracy: 0.8489557310107918\n"
     ]
    }
   ],
   "source": [
    "# undersampling with SVC Classifier\n",
    "\n",
    "SVC_with_rus = Pipeline([\n",
    "        (\"preprocessor\" , preprocessor) ,\n",
    "        ( 'rus' , RandomUnderSampler(random_state=42) ),\n",
    "        ('SVC',SVC(random_state=42))\n",
    "    ])\n",
    "params = {\n",
    "    'SVC__C': [1],\n",
    "    'SVC__kernel': ['poly'],\n",
    "    'SVC__gamma': ['auto'],\n",
    "    'SVC__degree': [2]  \n",
    "}\n",
    "grid_search = GridSearchCV(estimator=SVC_with_rus, \n",
    "                           param_grid=params, cv=5, \n",
    "                           n_jobs=-1, verbose=1)\n",
    "grid_search.fit(X_train , Y_train)\n",
    "y_trin_pred = grid_search.predict(X_train)\n",
    "Train_Accuracy = accuracy_score(Y_train, y_trin_pred)\n",
    "\n",
    "skfolds = StratifiedKFold(n_splits=5)\n",
    "i = 1\n",
    "valid_accuracy_score = []\n",
    "\n",
    "for train_indx, valid_indx in skfolds.split(X_train, Y_train): \n",
    "    \n",
    "    print(f\"At fold {i}\")\n",
    "    X_train_fold = X_train.iloc[train_indx]\n",
    "    y_train_fold = Y_train.iloc[train_indx]\n",
    "    X_valid_fold = X_train.iloc[valid_indx]\n",
    "    y_valid_fold = Y_train.iloc[valid_indx]\n",
    "    \n",
    "   \n",
    "\n",
    "    grid_search.fit(X_train_fold , y_train_fold)\n",
    "    y_valid_pred = grid_search.predict(X_valid_fold)\n",
    "    \n",
    "    valid_accuracy_score.append(accuracy_score(y_valid_fold, y_valid_pred))\n",
    "    i += 1\n",
    "\n",
    "Valid_Accuracy = np.mean(valid_accuracy_score)\n",
    "\n",
    "print(f\"Train Accuracy: {Train_Accuracy}\") \n",
    "print(f\"Average Valid Accuracy: {Valid_Accuracy}\")"
   ]
  },
  {
   "cell_type": "markdown",
   "id": "101c5d2d",
   "metadata": {},
   "source": [
    "# GradientBoostingClassifier with (undersampling and oversampling )"
   ]
  },
  {
   "cell_type": "code",
   "execution_count": null,
   "id": "7baf055a",
   "metadata": {},
   "outputs": [
    {
     "name": "stdout",
     "output_type": "stream",
     "text": [
      "Fitting 5 folds for each of 2 candidates, totalling 10 fits\n",
      "At fold 1\n",
      "Fitting 5 folds for each of 2 candidates, totalling 10 fits\n",
      "At fold 2\n",
      "Fitting 5 folds for each of 2 candidates, totalling 10 fits\n",
      "At fold 3\n",
      "Fitting 5 folds for each of 2 candidates, totalling 10 fits\n",
      "At fold 4\n",
      "Fitting 5 folds for each of 2 candidates, totalling 10 fits\n",
      "At fold 5\n",
      "Fitting 5 folds for each of 2 candidates, totalling 10 fits\n",
      "Train Accuracy: 0.9740256016972234\n",
      "Average Valid Accuracy: 0.9538566594718049\n"
     ]
    }
   ],
   "source": [
    "# oversampling with GradientBoostingClassifier\n",
    "\n",
    "\n",
    "gbc_with_Smote = Pipeline([\n",
    "        (\"preprocessor\" , preprocessor) ,\n",
    "        ( 'smote' , SMOTE(random_state=42)),\n",
    "        ('gbc',GradientBoostingClassifier(random_state=42))\n",
    "    ])\n",
    "params = {\n",
    "    'gbc__learning_rate': [0.8,1],\n",
    "    'gbc__max_depth': [5],\n",
    "    'gbc__subsample': [0.5] ,\n",
    "    'gbc__n_estimators' : [200]\n",
    "}\n",
    "grid_search = GridSearchCV(estimator=gbc_with_Smote, \n",
    "                           param_grid=params, cv=5, \n",
    "                           n_jobs=-1, verbose=1)\n",
    "grid_search.fit(X_train , Y_train)\n",
    "y_trin_pred = grid_search.predict(X_train)\n",
    "Train_Accuracy = accuracy_score(Y_train, y_trin_pred)\n",
    "\n",
    "skfolds = StratifiedKFold(n_splits=5)\n",
    "i = 1\n",
    "valid_accuracy_score = []\n",
    "\n",
    "for train_indx, valid_indx in skfolds.split(X_train, Y_train): \n",
    "    \n",
    "    print(f\"At fold {i}\")\n",
    "    X_train_fold = X_train.iloc[train_indx]\n",
    "    y_train_fold = Y_train.iloc[train_indx]\n",
    "    X_valid_fold = X_train.iloc[valid_indx]\n",
    "    y_valid_fold = Y_train.iloc[valid_indx]\n",
    "    \n",
    "   \n",
    "\n",
    "    grid_search.fit(X_train_fold , y_train_fold)\n",
    "    y_valid_pred = grid_search.predict(X_valid_fold)\n",
    "    \n",
    "    valid_accuracy_score.append(accuracy_score(y_valid_fold, y_valid_pred))\n",
    "    i += 1\n",
    "\n",
    "Valid_Accuracy = np.mean(valid_accuracy_score)\n",
    "\n",
    "print(f\"Train Accuracy: {Train_Accuracy}\") \n",
    "print(f\"Average Valid Accuracy: {Valid_Accuracy}\")"
   ]
  },
  {
   "cell_type": "code",
   "execution_count": null,
   "id": "22fde658",
   "metadata": {},
   "outputs": [
    {
     "name": "stdout",
     "output_type": "stream",
     "text": [
      "Fitting 5 folds for each of 2 candidates, totalling 10 fits\n",
      "At fold 1\n",
      "Fitting 5 folds for each of 2 candidates, totalling 10 fits\n",
      "At fold 2\n",
      "Fitting 5 folds for each of 2 candidates, totalling 10 fits\n",
      "At fold 3\n",
      "Fitting 5 folds for each of 2 candidates, totalling 10 fits\n",
      "At fold 4\n",
      "Fitting 5 folds for each of 2 candidates, totalling 10 fits\n",
      "At fold 5\n",
      "Fitting 5 folds for each of 2 candidates, totalling 10 fits\n",
      "Train Accuracy: 0.7820558764925961\n",
      "Average Valid Accuracy: 0.7979824130666057\n"
     ]
    }
   ],
   "source": [
    "# undersampling with GradientBoostingClassifier\n",
    "gbc_with_rus = Pipeline([\n",
    "        (\"preprocessor\" , preprocessor) ,\n",
    "        ( 'rus' ,  RandomUnderSampler(random_state=42)),\n",
    "        ('gbc',GradientBoostingClassifier(random_state=42))\n",
    "    ])\n",
    "params = {\n",
    "    'gbc__learning_rate': [0.8,1],\n",
    "    'gbc__max_depth': [5],\n",
    "    'gbc__subsample': [0.5] ,\n",
    "    'gbc__n_estimators' : [200]\n",
    "}\n",
    "grid_search = GridSearchCV(estimator=gbc_with_rus, \n",
    "                           param_grid=params, cv=5, \n",
    "                           n_jobs=-1, verbose=1)\n",
    "grid_search.fit(X_train , Y_train)\n",
    "y_trin_pred = grid_search.predict(X_train)\n",
    "Train_Accuracy = accuracy_score(Y_train, y_trin_pred)\n",
    "\n",
    "skfolds = StratifiedKFold(n_splits=5)\n",
    "i = 1\n",
    "valid_accuracy_score = []\n",
    "\n",
    "for train_indx, valid_indx in skfolds.split(X_train, Y_train): \n",
    "    \n",
    "    print(f\"At fold {i}\")\n",
    "    X_train_fold = X_train.iloc[train_indx]\n",
    "    y_train_fold = Y_train.iloc[train_indx]\n",
    "    X_valid_fold = X_train.iloc[valid_indx]\n",
    "    y_valid_fold = Y_train.iloc[valid_indx]\n",
    "    \n",
    "   \n",
    "\n",
    "    grid_search.fit(X_train_fold , y_train_fold)\n",
    "    y_valid_pred = grid_search.predict(X_valid_fold)\n",
    "    \n",
    "    valid_accuracy_score.append(accuracy_score(y_valid_fold, y_valid_pred))\n",
    "    i += 1\n",
    "\n",
    "Valid_Accuracy = np.mean(valid_accuracy_score)\n",
    "\n",
    "print(f\"Train Accuracy: {Train_Accuracy}\") \n",
    "print(f\"Average Valid Accuracy: {Valid_Accuracy}\")"
   ]
  },
  {
   "cell_type": "markdown",
   "id": "4a104e2e",
   "metadata": {},
   "source": [
    "# XGBClassifier with (undersampling and oversampling )"
   ]
  },
  {
   "cell_type": "code",
   "execution_count": null,
   "id": "c5c9e8e2",
   "metadata": {},
   "outputs": [
    {
     "name": "stdout",
     "output_type": "stream",
     "text": [
      "Fitting 3 folds for each of 16 candidates, totalling 48 fits\n",
      "At fold 1\n",
      "Fitting 3 folds for each of 16 candidates, totalling 48 fits\n",
      "At fold 2\n",
      "Fitting 3 folds for each of 16 candidates, totalling 48 fits\n",
      "At fold 3\n",
      "Fitting 3 folds for each of 16 candidates, totalling 48 fits\n",
      "At fold 4\n",
      "Fitting 3 folds for each of 16 candidates, totalling 48 fits\n",
      "At fold 5\n",
      "Fitting 3 folds for each of 16 candidates, totalling 48 fits\n",
      "Train Accuracy: 0.974412637433523\n",
      "Average Valid Accuracy: 0.9683634446605478\n"
     ]
    }
   ],
   "source": [
    "# oversampling with XGBClassifier\n",
    "\n",
    "\n",
    "XGB_with_Smote = Pipeline([\n",
    "        (\"preprocessor\" , preprocessor) ,\n",
    "        ( 'smote' , SMOTE(random_state=42)),\n",
    "        ('XGB',XGBClassifier(eval_metric='logloss', random_state=42))\n",
    "    ])\n",
    "params = {\n",
    "    'XGB__n_estimators': [300 , 500],\n",
    "    'XGB__max_depth': [3, 6],\n",
    "    'XGB__learning_rate': [0.05, 0.1],\n",
    "    'XGB__subsample': [0.8, 1],\n",
    "}\n",
    "grid_search = GridSearchCV(estimator=XGB_with_Smote, \n",
    "                           param_grid=params, cv=3, n_jobs=-1, \n",
    "                           verbose=1 , scoring='accuracy')\n",
    "\n",
    "grid_search.fit(X_train , Y_train)\n",
    "y_trin_pred = grid_search.predict(X_train)\n",
    "Train_Accuracy = accuracy_score(Y_train, y_trin_pred)\n",
    "\n",
    "skfolds = StratifiedKFold(n_splits=5)\n",
    "i = 1\n",
    "valid_accuracy_score = []\n",
    "\n",
    "for train_indx, valid_indx in skfolds.split(X_train, Y_train): \n",
    "    \n",
    "    print(f\"At fold {i}\")\n",
    "    X_train_fold = X_train.iloc[train_indx]\n",
    "    y_train_fold = Y_train.iloc[train_indx]\n",
    "    X_valid_fold = X_train.iloc[valid_indx]\n",
    "    y_valid_fold = Y_train.iloc[valid_indx]\n",
    "    \n",
    "   \n",
    "\n",
    "    grid_search.fit(X_train_fold , y_train_fold)\n",
    "    y_valid_pred = grid_search.predict(X_valid_fold)\n",
    "    \n",
    "    valid_accuracy_score.append(accuracy_score(y_valid_fold, y_valid_pred))\n",
    "    i += 1\n",
    "\n",
    "Valid_Accuracy = np.mean(valid_accuracy_score)\n",
    "\n",
    "print(f\"Train Accuracy: {Train_Accuracy}\") \n",
    "print(f\"Average Valid Accuracy: {Valid_Accuracy}\")"
   ]
  },
  {
   "cell_type": "code",
   "execution_count": null,
   "id": "9f58488c",
   "metadata": {},
   "outputs": [
    {
     "name": "stdout",
     "output_type": "stream",
     "text": [
      "Fitting 3 folds for each of 16 candidates, totalling 48 fits\n",
      "At fold 1\n",
      "Fitting 3 folds for each of 16 candidates, totalling 48 fits\n",
      "At fold 2\n",
      "Fitting 3 folds for each of 16 candidates, totalling 48 fits\n",
      "At fold 3\n",
      "Fitting 3 folds for each of 16 candidates, totalling 48 fits\n",
      "At fold 4\n",
      "Fitting 3 folds for each of 16 candidates, totalling 48 fits\n",
      "At fold 5\n",
      "Fitting 3 folds for each of 16 candidates, totalling 48 fits\n",
      "Train Accuracy: 0.8717764940296154\n",
      "Average Valid Accuracy: 0.865885005205878\n"
     ]
    }
   ],
   "source": [
    "# undersampling with XGBClassifier\n",
    "\n",
    "XGB_with_rus = Pipeline([\n",
    "        (\"preprocessor\" , preprocessor) ,\n",
    "        ( 'rus' , RandomUnderSampler(random_state=42) ),\n",
    "        ('XGB',XGBClassifier(eval_metric='logloss', random_state=42))\n",
    "    ])\n",
    "params = {\n",
    "    'XGB__n_estimators': [300 , 500],\n",
    "    'XGB__max_depth': [3, 6],\n",
    "    'XGB__learning_rate': [0.05, 0.1],\n",
    "    'XGB__subsample': [0.8, 1],\n",
    "}\n",
    "grid_search = GridSearchCV(estimator=XGB_with_rus, \n",
    "                           param_grid=params, cv=3, n_jobs=-1, \n",
    "                           verbose=1 , scoring='accuracy')\n",
    "\n",
    "grid_search.fit(X_train , Y_train)\n",
    "y_trin_pred = grid_search.predict(X_train)\n",
    "Train_Accuracy = accuracy_score(Y_train, y_trin_pred)\n",
    "\n",
    "skfolds = StratifiedKFold(n_splits=5)\n",
    "i = 1\n",
    "valid_accuracy_score = []\n",
    "\n",
    "for train_indx, valid_indx in skfolds.split(X_train, Y_train): \n",
    "    \n",
    "    print(f\"At fold {i}\")\n",
    "    X_train_fold = X_train.iloc[train_indx]\n",
    "    y_train_fold = Y_train.iloc[train_indx]\n",
    "    X_valid_fold = X_train.iloc[valid_indx]\n",
    "    y_valid_fold = Y_train.iloc[valid_indx]\n",
    "    \n",
    "   \n",
    "\n",
    "    grid_search.fit(X_train_fold , y_train_fold)\n",
    "    y_valid_pred = grid_search.predict(X_valid_fold)\n",
    "    \n",
    "    valid_accuracy_score.append(accuracy_score(y_valid_fold, y_valid_pred))\n",
    "    i += 1\n",
    "\n",
    "Valid_Accuracy = np.mean(valid_accuracy_score)\n",
    "\n",
    "print(f\"Train Accuracy: {Train_Accuracy}\") \n",
    "print(f\"Average Valid Accuracy: {Valid_Accuracy}\")"
   ]
  },
  {
   "cell_type": "markdown",
   "id": "1f17b37c",
   "metadata": {},
   "source": [
    "# CatBoostClassifier with (undersampling and oversampling )"
   ]
  },
  {
   "cell_type": "code",
   "execution_count": null,
   "id": "440f1b92",
   "metadata": {},
   "outputs": [
    {
     "name": "stdout",
     "output_type": "stream",
     "text": [
      "Fitting 3 folds for each of 12 candidates, totalling 36 fits\n",
      "At fold 1\n",
      "Fitting 3 folds for each of 12 candidates, totalling 36 fits\n",
      "At fold 2\n",
      "Fitting 3 folds for each of 12 candidates, totalling 36 fits\n",
      "At fold 3\n",
      "Fitting 3 folds for each of 12 candidates, totalling 36 fits\n",
      "At fold 4\n",
      "Fitting 3 folds for each of 12 candidates, totalling 36 fits\n",
      "At fold 5\n",
      "Fitting 3 folds for each of 12 candidates, totalling 36 fits\n",
      "Train Accuracy: 0.9491693066326458\n",
      "Average Valid Accuracy: 0.9491120357694935\n"
     ]
    }
   ],
   "source": [
    "# oversampling with CatBoostClassifier\n",
    "\n",
    "\n",
    "CatBoost_with_smote = Pipeline([\n",
    "        (\"preprocessor\" , preprocessor) ,\n",
    "        ('smote', SMOTE(random_state=42)),\n",
    "        ('CatBoost',  CatBoostClassifier(silent=True))\n",
    "    ])\n",
    "params = {\n",
    "    'CatBoost__iterations': [50, 100],\n",
    "    'CatBoost__learning_rate': [0.05, 0.1],\n",
    "    'CatBoost__depth': [3, 4, 6]\n",
    "}\n",
    "grid_search = GridSearchCV(estimator=CatBoost_with_smote, \n",
    "                           param_grid=params, cv=3, \n",
    "                           n_jobs=-1, verbose=1 , \n",
    "                           scoring='accuracy')\n",
    "grid_search.fit(X_train , Y_train)\n",
    "y_trin_pred = grid_search.predict(X_train)\n",
    "Train_Accuracy = accuracy_score(Y_train, y_trin_pred)\n",
    "\n",
    "skfolds = StratifiedKFold(n_splits=5)\n",
    "i = 1\n",
    "valid_accuracy_score = []\n",
    "\n",
    "for train_indx, valid_indx in skfolds.split(X_train, Y_train): \n",
    "    \n",
    "    print(f\"At fold {i}\")\n",
    "    X_train_fold = X_train.iloc[train_indx]\n",
    "    y_train_fold = Y_train.iloc[train_indx]\n",
    "    X_valid_fold = X_train.iloc[valid_indx]\n",
    "    y_valid_fold = Y_train.iloc[valid_indx]\n",
    "    \n",
    "   \n",
    "\n",
    "    grid_search.fit(X_train_fold , y_train_fold)\n",
    "    y_valid_pred = grid_search.predict(X_valid_fold)\n",
    "    \n",
    "    valid_accuracy_score.append(accuracy_score(y_valid_fold, y_valid_pred))\n",
    "    i += 1\n",
    "\n",
    "Valid_Accuracy = np.mean(valid_accuracy_score)\n",
    "\n",
    "print(f\"Train Accuracy: {Train_Accuracy}\") \n",
    "print(f\"Average Valid Accuracy: {Valid_Accuracy}\")"
   ]
  },
  {
   "cell_type": "code",
   "execution_count": null,
   "id": "8c982e03",
   "metadata": {},
   "outputs": [
    {
     "name": "stdout",
     "output_type": "stream",
     "text": [
      "Fitting 3 folds for each of 12 candidates, totalling 36 fits\n",
      "At fold 1\n",
      "Fitting 3 folds for each of 12 candidates, totalling 36 fits\n",
      "At fold 2\n",
      "Fitting 3 folds for each of 12 candidates, totalling 36 fits\n",
      "At fold 3\n",
      "Fitting 3 folds for each of 12 candidates, totalling 36 fits\n",
      "At fold 4\n",
      "Fitting 3 folds for each of 12 candidates, totalling 36 fits\n",
      "At fold 5\n",
      "Fitting 3 folds for each of 12 candidates, totalling 36 fits\n",
      "Train Accuracy: 0.8670460572526196\n",
      "Average Valid Accuracy: 0.8630037091674737\n"
     ]
    }
   ],
   "source": [
    "# undersampling with CatBoostClassifier\n",
    "CatBoost_with_rus = Pipeline([\n",
    "        (\"preprocessor\" , preprocessor) ,\n",
    "        ('rus', RandomUnderSampler(random_state=42)),\n",
    "        ('CatBoost',  CatBoostClassifier(silent=True))\n",
    "    ])\n",
    "params = {\n",
    "    'CatBoost__iterations': [50, 100],\n",
    "    'CatBoost__learning_rate': [0.05, 0.1],\n",
    "    'CatBoost__depth': [3, 4, 6]\n",
    "}\n",
    "grid_search = GridSearchCV(estimator=CatBoost_with_rus, \n",
    "                           param_grid=params, cv=3, \n",
    "                           n_jobs=-1, verbose=1 , \n",
    "                           scoring='accuracy')\n",
    "grid_search.fit(X_train , Y_train)\n",
    "y_trin_pred = grid_search.predict(X_train)\n",
    "Train_Accuracy = accuracy_score(Y_train, y_trin_pred)\n",
    "\n",
    "skfolds = StratifiedKFold(n_splits=5)\n",
    "i = 1\n",
    "valid_accuracy_score = []\n",
    "\n",
    "for train_indx, valid_indx in skfolds.split(X_train, Y_train): \n",
    "    \n",
    "    print(f\"At fold {i}\")\n",
    "    X_train_fold = X_train.iloc[train_indx]\n",
    "    y_train_fold = Y_train.iloc[train_indx]\n",
    "    X_valid_fold = X_train.iloc[valid_indx]\n",
    "    y_valid_fold = Y_train.iloc[valid_indx]\n",
    "    \n",
    "   \n",
    "\n",
    "    grid_search.fit(X_train_fold , y_train_fold)\n",
    "    y_valid_pred = grid_search.predict(X_valid_fold)\n",
    "    \n",
    "    valid_accuracy_score.append(accuracy_score(y_valid_fold, y_valid_pred))\n",
    "    i += 1\n",
    "\n",
    "Valid_Accuracy = np.mean(valid_accuracy_score)\n",
    "\n",
    "print(f\"Train Accuracy: {Train_Accuracy}\") \n",
    "print(f\"Average Valid Accuracy: {Valid_Accuracy}\")"
   ]
  },
  {
   "cell_type": "markdown",
   "id": "2789a9a4",
   "metadata": {},
   "source": [
    "# HistGradientBoostingClassifier with (undersampling and oversampling )"
   ]
  },
  {
   "cell_type": "code",
   "execution_count": null,
   "id": "74336852",
   "metadata": {},
   "outputs": [
    {
     "name": "stdout",
     "output_type": "stream",
     "text": [
      "Fitting 3 folds for each of 2 candidates, totalling 6 fits\n",
      "At fold 1\n",
      "Fitting 3 folds for each of 2 candidates, totalling 6 fits\n",
      "At fold 2\n",
      "Fitting 3 folds for each of 2 candidates, totalling 6 fits\n",
      "At fold 3\n",
      "Fitting 3 folds for each of 2 candidates, totalling 6 fits\n",
      "At fold 4\n",
      "Fitting 3 folds for each of 2 candidates, totalling 6 fits\n",
      "At fold 5\n",
      "Fitting 3 folds for each of 2 candidates, totalling 6 fits\n",
      "Train Accuracy: 0.8738836885939135\n",
      "Average Valid Accuracy: 0.8634911499664337\n"
     ]
    }
   ],
   "source": [
    "# undersampling with HistGradientBoostingClassifier\n",
    "\n",
    "\n",
    "HistGradient_with_rus = Pipeline([\n",
    "        (\"preprocessor\" , preprocessor) ,\n",
    "        ('rus', RandomUnderSampler(random_state=42)),\n",
    "        ('HistGradient', HistGradientBoostingClassifier(random_state=42))\n",
    "    ])\n",
    "params = {\n",
    "    'HistGradient__learning_rate': [0.1],\n",
    "    'HistGradient__max_iter': [200],\n",
    "    'HistGradient__max_depth': [5, None],\n",
    "    'HistGradient__l2_regularization': [1.0],\n",
    "}\n",
    "grid_search = GridSearchCV(estimator=HistGradient_with_rus, \n",
    "                           param_grid=params, cv=3, \n",
    "                           n_jobs=-1, verbose=1 , \n",
    "                           scoring='accuracy')\n",
    "grid_search.fit(X_train , Y_train)\n",
    "y_trin_pred = grid_search.predict(X_train)\n",
    "Train_Accuracy = accuracy_score(Y_train, y_trin_pred)\n",
    "\n",
    "skfolds = StratifiedKFold(n_splits=5)\n",
    "i = 1\n",
    "valid_accuracy_score = []\n",
    "\n",
    "for train_indx, valid_indx in skfolds.split(X_train, Y_train): \n",
    "    \n",
    "    print(f\"At fold {i}\")\n",
    "    X_train_fold = X_train.iloc[train_indx]\n",
    "    y_train_fold = Y_train.iloc[train_indx]\n",
    "    X_valid_fold = X_train.iloc[valid_indx]\n",
    "    y_valid_fold = Y_train.iloc[valid_indx]\n",
    "    \n",
    "   \n",
    "\n",
    "    grid_search.fit(X_train_fold , y_train_fold)\n",
    "    y_valid_pred = grid_search.predict(X_valid_fold)\n",
    "    \n",
    "    valid_accuracy_score.append(accuracy_score(y_valid_fold, y_valid_pred))\n",
    "    i += 1\n",
    "\n",
    "Valid_Accuracy = np.mean(valid_accuracy_score)\n",
    "\n",
    "print(f\"Train Accuracy: {Train_Accuracy}\") \n",
    "print(f\"Average Valid Accuracy: {Valid_Accuracy}\")"
   ]
  },
  {
   "cell_type": "code",
   "execution_count": null,
   "id": "6b5c3830",
   "metadata": {},
   "outputs": [
    {
     "name": "stdout",
     "output_type": "stream",
     "text": [
      "Fitting 3 folds for each of 2 candidates, totalling 6 fits\n",
      "At fold 1\n",
      "Fitting 3 folds for each of 2 candidates, totalling 6 fits\n",
      "At fold 2\n",
      "Fitting 3 folds for each of 2 candidates, totalling 6 fits\n",
      "At fold 3\n",
      "Fitting 3 folds for each of 2 candidates, totalling 6 fits\n",
      "At fold 4\n",
      "Fitting 3 folds for each of 2 candidates, totalling 6 fits\n",
      "At fold 5\n",
      "Fitting 3 folds for each of 2 candidates, totalling 6 fits\n",
      "Train Accuracy: 0.9750863663078224\n",
      "Average Valid Accuracy: 0.9682631098701604\n"
     ]
    }
   ],
   "source": [
    "# oversampling with HistGradientBoostingClassifier\n",
    "\n",
    "\n",
    "HistGradient_with_smote = Pipeline([\n",
    "        (\"preprocessor\" , preprocessor) ,\n",
    "        ('smote', SMOTE(random_state=42)),\n",
    "        ('HistGradient', HistGradientBoostingClassifier(random_state=42))\n",
    "    ])\n",
    "params = {\n",
    "    'HistGradient__learning_rate': [0.1],\n",
    "    'HistGradient__max_iter': [200],\n",
    "    'HistGradient__max_depth': [ 5, None],\n",
    "    'HistGradient__l2_regularization': [ 1.0],\n",
    "}\n",
    "grid_search = GridSearchCV(estimator=HistGradient_with_smote, \n",
    "                           param_grid=params, cv=3, \n",
    "                           n_jobs=-1, verbose=1 , \n",
    "                           scoring='accuracy')\n",
    "grid_search.fit(X_train , Y_train)\n",
    "y_trin_pred = grid_search.predict(X_train)\n",
    "Train_Accuracy = accuracy_score(Y_train, y_trin_pred)\n",
    "\n",
    "skfolds = StratifiedKFold(n_splits=5)\n",
    "i = 1\n",
    "valid_accuracy_score = []\n",
    "\n",
    "for train_indx, valid_indx in skfolds.split(X_train, Y_train): \n",
    "    \n",
    "    print(f\"At fold {i}\")\n",
    "    X_train_fold = X_train.iloc[train_indx]\n",
    "    y_train_fold = Y_train.iloc[train_indx]\n",
    "    X_valid_fold = X_train.iloc[valid_indx]\n",
    "    y_valid_fold = Y_train.iloc[valid_indx]\n",
    "    \n",
    "   \n",
    "\n",
    "    grid_search.fit(X_train_fold , y_train_fold)\n",
    "    y_valid_pred = grid_search.predict(X_valid_fold)\n",
    "    \n",
    "    valid_accuracy_score.append(accuracy_score(y_valid_fold, y_valid_pred))\n",
    "    i += 1\n",
    "\n",
    "Valid_Accuracy = np.mean(valid_accuracy_score)\n",
    "\n",
    "print(f\"Train Accuracy: {Train_Accuracy}\") \n",
    "print(f\"Average Valid Accuracy: {Valid_Accuracy}\")"
   ]
  },
  {
   "cell_type": "markdown",
   "id": "0c8b09e1",
   "metadata": {},
   "source": [
    "# Model Comparison Summary\n",
    "\n",
    "After comparing the performance of various models using **undersampling** and **oversampling** techniques, here is the evaluation:\n",
    "\n",
    "### 1. **Logistic Regression**\n",
    "- **Undersampling**: Train Accuracy: 0.85, Valid Accuracy: 0.85\n",
    "- **Oversampling**: Train Accuracy: 0.85, Valid Accuracy: 0.85\n",
    "\n",
    "### 2. **KNN**\n",
    "- **Undersampling**: Train Accuracy: 0.83, Valid Accuracy: 0.83\n",
    "- **Oversampling**: Train Accuracy: 0.82, Valid Accuracy: 0.82\n",
    "\n",
    "### 3. **Random Forest Classifier**\n",
    "- **Undersampling**: Train Accuracy: 0.86, Valid Accuracy: 0.85\n",
    "- **Oversampling**: Train Accuracy: 0.99, Valid Accuracy: 0.96\n",
    "\n",
    "### 4. **Decision Tree Classifier**\n",
    "- **Undersampling**: Train Accuracy: 0.86, Valid Accuracy: 0.86\n",
    "- **Oversampling**: Train Accuracy: 0.95, Valid Accuracy: 0.94\n",
    "\n",
    "### 5. **SVC**\n",
    "- **Undersampling**: Train Accuracy: 0.85, Valid Accuracy: 0.84\n",
    "- **Oversampling**: Train Accuracy: 0.84, Valid Accuracy: 0.84\n",
    "\n",
    "### 6. **Gradient Boosting Classifier**\n",
    "- **Undersampling**: Train Accuracy: 0.87, Valid Accuracy: 0.79\n",
    "- **Oversampling**: Train Accuracy: 0.97, Valid Accuracy: 0.95\n",
    "\n",
    "### 7. **XGBoost Classifier**\n",
    "- **Undersampling**: Train Accuracy: 0.87, Valid Accuracy: 0.86\n",
    "- **Oversampling**: Train Accuracy: 0.97, Valid Accuracy: 0.96\n",
    "\n",
    "### 8. **CatBoost Classifier**\n",
    "- **Undersampling**: Train Accuracy: 0.86, Valid Accuracy: 0.86\n",
    "- **Oversampling**: Train Accuracy: 0.94, Valid Accuracy: 0.94\n",
    "\n",
    "### 9. **HistGradientBoosting Classifier**\n",
    "- **Undersampling**: Train Accuracy: 0.87, Valid Accuracy: 0.86\n",
    "- **Oversampling**: Train Accuracy: 0.97, Valid Accuracy: 0.96\n",
    "---\n",
    "\n",
    "### **The Best Models:**\n",
    "- **Best Models wit Oversampling**\n",
    "  - **1- XGBoost**: 0.97 , 0.96\n",
    "  - **2- CatBoost**: 0.94 , 94\n",
    "  - **3- HistGradientBoosting** : 0.97 , 0.96\n",
    "  - : Those models achieved the highest training and validation accuracy across . **Oversampling** helped improve performance significantly.\n",
    "\n",
    "---"
   ]
  },
  {
   "cell_type": "markdown",
   "id": "0c434ce2",
   "metadata": {},
   "source": [
    "# **Ensembling Learning Technique with the best models**\n",
    "### *Bagging* : i used Random Forest and the accuracy is **T**:99 - **v**:96\n",
    "### *Boosting* : i used Gradient Boosting and the accuracy is **T**:97 - **v**:95\n",
    "### *Stacking* : lets try tis technique with the best three model(**XGBoost** - **CatBoost** - **HistGradientBoosting** )"
   ]
  },
  {
   "cell_type": "markdown",
   "id": "3304ec5b",
   "metadata": {},
   "source": [
    "# **stacking**"
   ]
  },
  {
   "cell_type": "code",
   "execution_count": 103,
   "id": "b32be01f",
   "metadata": {},
   "outputs": [
    {
     "name": "stdout",
     "output_type": "stream",
     "text": [
      "Fitting 3 folds for each of 2 candidates, totalling 6 fits\n",
      "At fold 1\n",
      "Fitting 3 folds for each of 2 candidates, totalling 6 fits\n",
      "At fold 2\n",
      "Fitting 3 folds for each of 2 candidates, totalling 6 fits\n",
      "At fold 3\n",
      "Fitting 3 folds for each of 2 candidates, totalling 6 fits\n",
      "Train Accuracy: 0.9732658648815241\n",
      "Average Valid Accuracy: 0.972878831394417\n"
     ]
    }
   ],
   "source": [
    "# oversampling with CatBoostClassifier for stacking \n",
    "\n",
    "CatBoost= Pipeline([\n",
    "        (\"preprocessor\" , preprocessor) ,\n",
    "        ('smote', SMOTE(random_state=42)),\n",
    "        ('CatBoost',  CatBoostClassifier(silent=True))\n",
    "    ])\n",
    "CatBoost_params = {\n",
    "    'CatBoost__iterations': [200 , 300],\n",
    "    'CatBoost__learning_rate': [0.2],\n",
    "    'CatBoost__depth': [4,8],\n",
    "    'CatBoost__l2_leaf_reg': [1,5]\n",
    "}\n",
    "final_catboost_pipeline = GridSearchCV(estimator=CatBoost, \n",
    "                           param_grid=CatBoost_params, cv=3, \n",
    "                           n_jobs=-1, verbose=1 , \n",
    "                           scoring='accuracy')\n",
    "\n",
    "#--------------------------------------------------------------------\n",
    "# Making Grid Search for final estimator for stacking \n",
    "\n",
    "hist_param_grid = {\n",
    "    'learning_rate': [0.2],\n",
    "    'max_iter': [200],\n",
    "    'max_depth': [None,10]\n",
    "}\n",
    "\n",
    "final_hist_estimator = GridSearchCV(\n",
    "    estimator=HistGradientBoostingClassifier(random_state=42),\n",
    "    param_grid=hist_param_grid,\n",
    "    cv=3,\n",
    "    scoring='accuracy',\n",
    "    verbose=1,\n",
    "    n_jobs=-1\n",
    ")\n",
    "\n",
    "\n",
    "\n",
    "#--------------------------------------------------------------------\n",
    "# oversampling with XGBClassifier for stacking \n",
    "\n",
    "XGB = Pipeline([\n",
    "        (\"preprocessor\" , preprocessor) ,\n",
    "        ( 'smote' , SMOTE(random_state=42)),\n",
    "        ('XGB',XGBClassifier(eval_metric='logloss', random_state=42))\n",
    "    ])\n",
    "XGB_params = {\n",
    "    'XGB__n_estimators': [200 , 300],\n",
    "    'XGB__learning_rate': [0.2],\n",
    "    'XGB__max_depth': [3, 7],\n",
    "    'XGB__subsample': [0.8, 1.0],\n",
    "    'XGB__colsample_bytree': [0.8, 1.0]\n",
    "}\n",
    "final_xgb_pipeline = GridSearchCV(estimator=XGB, \n",
    "                           param_grid=XGB_params, cv=3, n_jobs=-1, \n",
    "                           verbose=1 , scoring='accuracy')\n",
    "\n",
    "\n",
    "#--------------------------------------------------------------------\n",
    "# oversampling with HistGradientBoostingClassifier for stacking \n",
    "\n",
    "\n",
    "from sklearn.ensemble import HistGradientBoostingClassifier\n",
    "\n",
    "HistGradient = Pipeline([\n",
    "        (\"preprocessor\" , preprocessor) ,\n",
    "        ('smote', SMOTE(random_state=42)),\n",
    "        ('HistGradient', HistGradientBoostingClassifier(random_state=42))\n",
    "    ])\n",
    "HistGradient_params = {\n",
    "    'HistGradient__learning_rate': [0.2],\n",
    "    'HistGradient__max_iter': [200 , 300],\n",
    "    'HistGradient__max_depth': [None,10]\n",
    "}\n",
    "final_HistGradient_pipeline = GridSearchCV(estimator=HistGradient, \n",
    "                           param_grid=HistGradient_params, cv=3, \n",
    "                           n_jobs=-1, verbose=1 , \n",
    "                           scoring='accuracy')\n",
    "\n",
    "\n",
    "\n",
    "#--------------------------------------------------------------------\n",
    "from sklearn.ensemble import StackingClassifier\n",
    "\n",
    "# Concatenation all models with its best barometer together And the final estimator with grit search\n",
    "\n",
    "Stacking_model = StackingClassifier(estimators= [('XGB' , final_xgb_pipeline),\n",
    "                                ('HistGradient' , final_HistGradient_pipeline ),\n",
    "                                ('CatBoost' , final_catboost_pipeline)]\n",
    "                                ,final_estimator= final_hist_estimator, \n",
    "                                cv= 5, n_jobs=-1)\n",
    "\n",
    "Stacking_model.fit(X_train , Y_train)\n",
    "\n",
    "y_trin_pred = Stacking_model.predict(X_train)\n",
    "\n",
    "Train_Accuracy = accuracy_score(Y_train, y_trin_pred)\n",
    "\n",
    "skfolds = StratifiedKFold(n_splits=3)\n",
    "i = 1\n",
    "valid_accuracy_score = []\n",
    "\n",
    "for train_indx, valid_indx in skfolds.split(X_train, Y_train): \n",
    "    \n",
    "    print(f\"At fold {i}\")\n",
    "    X_train_fold = X_train.iloc[train_indx]\n",
    "    y_train_fold = Y_train.iloc[train_indx]\n",
    "    X_valid_fold = X_train.iloc[valid_indx]\n",
    "    y_valid_fold = Y_train.iloc[valid_indx]\n",
    "    \n",
    "\n",
    "    Stacking_model.fit(X_train_fold , y_train_fold)\n",
    "    y_valid_pred = Stacking_model.predict(X_valid_fold)\n",
    "    \n",
    "    valid_accuracy_score.append(accuracy_score(y_valid_fold, y_valid_pred))\n",
    "    i += 1\n",
    "\n",
    "Valid_Accuracy = np.mean(valid_accuracy_score)\n",
    "\n",
    "print(f\"Train Accuracy: {Train_Accuracy}\") \n",
    "print(f\"Average Valid Accuracy: {Valid_Accuracy}\")"
   ]
  },
  {
   "cell_type": "code",
   "execution_count": 104,
   "id": "d1b6af90",
   "metadata": {},
   "outputs": [
    {
     "name": "stdout",
     "output_type": "stream",
     "text": [
      "fi score 0.666068544769424\n",
      "Precision: 0.988353626257279\n",
      "Recall: 0.5032345013477089\n",
      "test score 0.9708732297460008\n"
     ]
    }
   ],
   "source": [
    "from sklearn.metrics import f1_score\n",
    "from sklearn.metrics import precision_score, recall_score\n",
    "\n",
    "y_train_pred = Stacking_model.predict(X_train)\n",
    "train_f1 = f1_score(Y_train, y_train_pred) \n",
    "print(f\"fi score {train_f1}\")\n",
    "\n",
    "\n",
    "train_precision = precision_score(Y_train, y_trin_pred)\n",
    "train_recall = recall_score(Y_train, y_trin_pred)\n",
    "\n",
    "\n",
    "print(f\"Precision: {train_precision}\")\n",
    "print(f\"Recall: {train_recall}\")\n",
    "\n",
    "\n",
    "y_valid_pred = Stacking_model.predict(X_test)\n",
    "print(f\"test score {accuracy_score(Y_test, y_valid_pred)}\")"
   ]
  },
  {
   "cell_type": "code",
   "execution_count": 105,
   "id": "eda58df1",
   "metadata": {},
   "outputs": [
    {
     "data": {
      "image/png": "[encoded data removed]",
      "text/plain": [
       "<Figure size 640x480 with 2 Axes>"
      ]
     },
     "metadata": {},
     "output_type": "display_data"
    }
   ],
   "source": [
    "from sklearn.metrics import ConfusionMatrixDisplay \n",
    "# Confusion Matrix for Training Data\n",
    "cm_train = confusion_matrix(Y_train, y_trin_pred)\n",
    "disp_train = ConfusionMatrixDisplay(confusion_matrix=cm_train)\n",
    "disp_train.plot(cmap='Blues')\n",
    "plt.title(\"Confusion Matrix - Training Data\")\n",
    "plt.show()\n"
   ]
  },
  {
   "cell_type": "code",
   "execution_count": 106,
   "id": "785c241e",
   "metadata": {},
   "outputs": [
    {
     "name": "stdout",
     "output_type": "stream",
     "text": [
      "Best Params for XGB:\n",
      "{'XGB__colsample_bytree': 1.0, 'XGB__learning_rate': 0.2, 'XGB__max_depth': 3, 'XGB__n_estimators': 300, 'XGB__subsample': 0.8}\n",
      "\n",
      "Best Params for HistGradient:\n",
      "{'HistGradient__learning_rate': 0.2, 'HistGradient__max_depth': 10, 'HistGradient__max_iter': 200}\n",
      "\n",
      "Best Params for CatBoost:\n",
      "{'CatBoost__depth': 4, 'CatBoost__iterations': 300, 'CatBoost__l2_leaf_reg': 1, 'CatBoost__learning_rate': 0.2}\n"
     ]
    }
   ],
   "source": [
    "estimators = Stacking_model.named_estimators_\n",
    "XGB_Best = estimators['XGB'].best_params_\n",
    "HistGradient_Best = estimators['HistGradient'].best_params_\n",
    "CatBoost_Best = estimators['CatBoost'].best_params_\n",
    "print(\"Best Params for XGB:\")\n",
    "print(XGB_Best)\n",
    "\n",
    "print(\"\\nBest Params for HistGradient:\")\n",
    "print(HistGradient_Best)\n",
    "\n",
    "print(\"\\nBest Params for CatBoost:\")\n",
    "print(CatBoost_Best)\n"
   ]
  },
  {
   "cell_type": "markdown",
   "id": "8e8425cb",
   "metadata": {},
   "source": [
    "# In This Problem, I Have to Focus on ***Recall***\n",
    "\n",
    "## Very Important to Find All People Who Have Diabetes:\n",
    "\n",
    "- In medical diagnosis, we should **not make the mistake** of saying someone is healthy when they actually have diabetes.  \n",
    "- If that happens, they **won’t get the treatment** they need, and their health could **get worse**.\n",
    "\n",
    "That’s why it’s important to focus on ***recall*** \n",
    "to make sure we **catch as many real cases of diabetes as possible**."
   ]
  },
  {
   "cell_type": "markdown",
   "id": "bd2286e1",
   "metadata": {},
   "source": [
    "# *Extract future for increasing the* **Accuracy**"
   ]
  },
  {
   "cell_type": "code",
   "execution_count": 23,
   "id": "69a2b514",
   "metadata": {},
   "outputs": [
    {
     "name": "stdout",
     "output_type": "stream",
     "text": [
      "the accuracy of the model 0.7067727804408156\n"
     ]
    },
    {
     "data": {
      "text/plain": [
       "['model_for_extract_future.pkl']"
      ]
     },
     "execution_count": 23,
     "metadata": {},
     "output_type": "execute_result"
    }
   ],
   "source": [
    "# i will ues Clustering model for extract future \"The distance between each point And it's centre or class\"\n",
    "\n",
    "from sklearn.cluster import KMeans\n",
    "\n",
    "\n",
    "X_combined = pd.concat([X_train, X_test], axis=0).reset_index(drop=True)\n",
    "y_combined = np.concatenate((Y_train, Y_test), axis=0)\n",
    "\n",
    "\n",
    "KMeans_model = Pipeline([\n",
    "        (\"preprocessor\" , preprocessor) ,\n",
    "        ( 'smote' , SMOTE(random_state=42)),\n",
    "        ('KM', KMeans(n_clusters=2 , max_iter=300 , n_init=20))\n",
    "    ])\n",
    "\n",
    "scor = 0 \n",
    "while scor < 0.70 :\n",
    "\n",
    "\n",
    "    KMeans_model.fit(X_combined, y_combined)\n",
    "\n",
    "    cluster_labels = KMeans_model.predict(X_combined)\n",
    "    scor = accuracy_score(y_combined, cluster_labels)\n",
    "\n",
    "print(f\"the accuracy of the model {scor}\")\n",
    "\n",
    "\n",
    "joblib.dump(KMeans_model, 'model_for_extract_future.pkl')"
   ]
  },
  {
   "cell_type": "code",
   "execution_count": 108,
   "id": "25fa1b08",
   "metadata": {},
   "outputs": [],
   "source": [
    "X_train_new_future = pd.DataFrame(KMeans_model.transform(X_train), columns=[\"distance_to_centroid_0\", \"distance_to_centroid_1\"])\n",
    "X_test_new_future = pd.DataFrame(KMeans_model.transform(X_test), columns=[\"distance_to_centroid_0\", \"distance_to_centroid_1\"])\n",
    "\n",
    "X_train = pd.concat([X_train.reset_index(drop=True), X_train_new_future.reset_index(drop=True)], axis=1)\n",
    "X_test = pd.concat([X_test.reset_index(drop=True), X_test_new_future.reset_index(drop=True)], axis=1)"
   ]
  },
  {
   "cell_type": "code",
   "execution_count": 109,
   "id": "c43599cc",
   "metadata": {},
   "outputs": [],
   "source": [
    "X_train[\"age_hba1c_interaction\"] = X_train[\"age\"] * X_train[\"HbA1c_level\"]\n",
    "X_train[\"bmi_glucose_interaction\"] =  X_train[\"bmi\"] * X_train[\"blood_glucose_level\"]\n",
    "X_train[\"bmi_age_ratio\"] = X_train[\"bmi\"] / X_train[\"age\"]\n",
    "X_train['glucose_triple_score'] = (X_train['blood_glucose_level'] * X_train['HbA1c_level']) / X_train['bmi']\n",
    "\n",
    "X_test[\"age_hba1c_interaction\"] = X_test[\"age\"] * X_test[\"HbA1c_level\"]\n",
    "X_test[\"bmi_glucose_interaction\"] =  X_test[\"bmi\"] * X_test[\"blood_glucose_level\"]\n",
    "X_test[\"bmi_age_ratio\"] = X_test[\"bmi\"] / X_test[\"age\"]\n",
    "X_test['glucose_triple_score'] = (X_test['blood_glucose_level'] * X_test['HbA1c_level']) / X_test['bmi']\n"
   ]
  },
  {
   "cell_type": "markdown",
   "id": "8c8a8d0e",
   "metadata": {},
   "source": [
    "# trin the **model** agin with the new future"
   ]
  },
  {
   "cell_type": "code",
   "execution_count": 110,
   "id": "272ee062",
   "metadata": {},
   "outputs": [
    {
     "name": "stdout",
     "output_type": "stream",
     "text": [
      "Best Params for XGB:\n",
      "{'XGB__colsample_bytree': 1.0, 'XGB__learning_rate': 0.2, 'XGB__max_depth': 3, 'XGB__n_estimators': 300, 'XGB__subsample': 0.8}\n",
      "\n",
      "Best Params for HistGradient:\n",
      "{'HistGradient__learning_rate': 0.2, 'HistGradient__max_depth': 10, 'HistGradient__max_iter': 200}\n",
      "\n",
      "Best Params for CatBoost:\n",
      "{'CatBoost__depth': 4, 'CatBoost__iterations': 300, 'CatBoost__l2_leaf_reg': 1, 'CatBoost__learning_rate': 0.2}\n"
     ]
    }
   ],
   "source": [
    "estimators = Stacking_model.named_estimators_\n",
    "XGB_Best = estimators['XGB'].best_params_\n",
    "HistGradient_Best = estimators['HistGradient'].best_params_\n",
    "CatBoost_Best = estimators['CatBoost'].best_params_\n",
    "print(\"Best Params for XGB:\")\n",
    "print(XGB_Best)\n",
    "\n",
    "print(\"\\nBest Params for HistGradient:\")\n",
    "print(HistGradient_Best)\n",
    "\n",
    "print(\"\\nBest Params for CatBoost:\")\n",
    "print(CatBoost_Best)"
   ]
  },
  {
   "cell_type": "code",
   "execution_count": 111,
   "id": "175b83cd",
   "metadata": {},
   "outputs": [
    {
     "name": "stdout",
     "output_type": "stream",
     "text": [
      "Fitting 3 folds for each of 2 candidates, totalling 6 fits\n",
      "At fold 1\n",
      "Fitting 3 folds for each of 2 candidates, totalling 6 fits\n",
      "At fold 2\n",
      "Fitting 3 folds for each of 2 candidates, totalling 6 fits\n",
      "At fold 3\n",
      "Fitting 3 folds for each of 2 candidates, totalling 6 fits\n",
      "Train Accuracy: 0.9733662074798239\n",
      "Average Valid Accuracy: 0.9725921405166381\n"
     ]
    }
   ],
   "source": [
    "from sklearn.ensemble import StackingClassifier\n",
    "\n",
    "\n",
    "numeric_features = [\"age\", \"bmi\", \"HbA1c_level\", \"blood_glucose_level\",\n",
    "                    \"risk_score\" , \"distance_to_centroid_0\", \"distance_to_centroid_1\",\n",
    "                    \"age_hba1c_interaction\",\"bmi_glucose_interaction\",\"bmi_age_ratio\" ,'glucose_triple_score']\n",
    "categorical_features = ['gender']\n",
    "\n",
    "numeric_transformer = Pipeline(steps=[\n",
    "    ('imputer', SimpleImputer(strategy='mean')),  \n",
    "    ('scaler', RobustScaler())\n",
    "])\n",
    "\n",
    "categorical_transformer = Pipeline(steps=[\n",
    "    ('imputer', SimpleImputer(strategy='most_frequent')),\n",
    "    ('onehot', OneHotEncoder(handle_unknown='ignore' , drop=None))\n",
    "])\n",
    "\n",
    "\n",
    "preprocessor = ColumnTransformer(\n",
    "    transformers=[\n",
    "        ('numeric', numeric_transformer, numeric_features),\n",
    "        ('categorical', categorical_transformer, categorical_features)\n",
    "    ],\n",
    "    remainder='passthrough'\n",
    ")\n",
    "# ------------------------------------------------------------\n",
    "final_catboost_pipeline= Pipeline([\n",
    "        (\"preprocessor\" , preprocessor) ,\n",
    "        ('smote', SMOTE(random_state=42)),\n",
    "        ('CatBoost',  CatBoostClassifier(silent=True, depth = 4, iterations = 300, l2_leaf_reg =1, learning_rate = 0.2))\n",
    "    ])\n",
    "final_xgb_pipeline = Pipeline([\n",
    "        (\"preprocessor\" , preprocessor) ,\n",
    "        ( 'smote' , SMOTE(random_state=42)),\n",
    "        ('XGB',XGBClassifier(eval_metric='logloss', random_state=42 , colsample_bytree = 1.0, learning_rate =0.2, max_depth = 3, n_estimators =300, subsample = 0.8))\n",
    "    ])\n",
    "\n",
    "final_HistGradient_pipeline = Pipeline([\n",
    "        (\"preprocessor\" , preprocessor) ,\n",
    "        ('smote', SMOTE(random_state=42)),\n",
    "        ('HistGradient', HistGradientBoostingClassifier(random_state=42 , learning_rate=0.2,max_depth=10,max_iter=200))\n",
    "    ])\n",
    "\n",
    "#--------------------------------------------------------------------\n",
    "hist_param_grid = {\n",
    "    'learning_rate': [0.2],\n",
    "    'max_iter': [200],\n",
    "    'max_depth': [None,10]\n",
    "}\n",
    "\n",
    "final_hist_estimator = GridSearchCV(\n",
    "    estimator=HistGradientBoostingClassifier(random_state=42),\n",
    "    param_grid=hist_param_grid,\n",
    "    cv=3,\n",
    "    scoring='recall', # change to be recol \n",
    "    verbose=1,\n",
    "    n_jobs=-1\n",
    ")\n",
    "#--------------------------------------------------------------------\n",
    "Stacking_model = StackingClassifier(estimators= [('XGB' , final_xgb_pipeline),\n",
    "                                ('HistGradient' , final_HistGradient_pipeline ),\n",
    "                                ('CatBoost' , final_catboost_pipeline)]\n",
    "                                ,final_estimator= final_hist_estimator, \n",
    "                                cv= 5, n_jobs=-1)\n",
    "#--------------------------------------------------------------------\n",
    "Stacking_model.fit(X_train , Y_train)\n",
    "\n",
    "y_trin_pred = Stacking_model.predict(X_train)\n",
    "\n",
    "Train_Accuracy = accuracy_score(Y_train, y_trin_pred)\n",
    "\n",
    "skfolds = StratifiedKFold(n_splits=3)\n",
    "i = 1\n",
    "valid_accuracy_score = []\n",
    "\n",
    "for train_indx, valid_indx in skfolds.split(X_train, Y_train): \n",
    "    \n",
    "    print(f\"At fold {i}\")\n",
    "    X_train_fold = X_train.iloc[train_indx]\n",
    "    y_train_fold = Y_train.iloc[train_indx]\n",
    "    X_valid_fold = X_train.iloc[valid_indx]\n",
    "    y_valid_fold = Y_train.iloc[valid_indx]\n",
    "    \n",
    "\n",
    "    Stacking_model.fit(X_train_fold , y_train_fold)\n",
    "    y_valid_pred = Stacking_model.predict(X_valid_fold)\n",
    "    \n",
    "    valid_accuracy_score.append(accuracy_score(y_valid_fold, y_valid_pred))\n",
    "    i += 1\n",
    "\n",
    "Valid_Accuracy = np.mean(valid_accuracy_score)\n",
    "\n",
    "print(f\"Train Accuracy: {Train_Accuracy}\") \n",
    "print(f\"Average Valid Accuracy: {Valid_Accuracy}\")"
   ]
  },
  {
   "cell_type": "code",
   "execution_count": null,
   "id": "da130619",
   "metadata": {},
   "outputs": [
    {
     "name": "stdout",
     "output_type": "stream",
     "text": [
      "fi score 0.6645126548196015\n",
      "Precision: 0.9936034115138592\n",
      "Recall: 0.5024258760107817\n",
      "test score 0.971274582879422\n"
     ]
    }
   ],
   "source": [
    "y_trin_pred = Stacking_model.predict(X_train)\n",
    "train_f1 = f1_score(Y_train, y_trin_pred) \n",
    "print(f\"fi score {train_f1}\")\n",
    "\n",
    "\n",
    "train_precision = precision_score(Y_train, y_trin_pred)\n",
    "train_recall = recall_score(Y_train, y_trin_pred)\n",
    "\n",
    "\n",
    "print(f\"Precision: {train_precision}\")\n",
    "print(f\"Recall: {train_recall}\")\n",
    "\n",
    "\n",
    "y_valid_pred = Stacking_model.predict(X_test)\n",
    "print(f\"test score {accuracy_score(Y_test, y_valid_pred)}\")"
   ]
  },
  {
   "cell_type": "code",
   "execution_count": 113,
   "id": "61531808",
   "metadata": {},
   "outputs": [
    {
     "data": {
      "image/png": "[encoded data removed]",
      "text/plain": [
       "<Figure size 640x480 with 2 Axes>"
      ]
     },
     "metadata": {},
     "output_type": "display_data"
    }
   ],
   "source": [
    "from sklearn.metrics import ConfusionMatrixDisplay \n",
    "# Confusion Matrix for Training Data\n",
    "cm_train = confusion_matrix(Y_train, y_trin_pred)\n",
    "disp_train = ConfusionMatrixDisplay(confusion_matrix=cm_train)\n",
    "disp_train.plot(cmap='Blues')\n",
    "plt.title(\"Confusion Matrix - Training Data\")\n",
    "plt.show()"
   ]
  },
  {
   "cell_type": "markdown",
   "id": "49b8c4ac",
   "metadata": {},
   "source": [
    "# find the ***feature importances*** from **RandomForest**"
   ]
  },
  {
   "cell_type": "code",
   "execution_count": 114,
   "id": "63bd70ff",
   "metadata": {},
   "outputs": [
    {
     "data": {
      "image/png": "[encoded data removed]",
      "text/plain": [
       "<Figure size 1000x600 with 1 Axes>"
      ]
     },
     "metadata": {},
     "output_type": "display_data"
    }
   ],
   "source": [
    "# Create and train pipeline with preprocessing and Random Forest model\n",
    "\n",
    "model_for_feature_importance = Pipeline([\n",
    "        (\"preprocessor\" , preprocessor) ,\n",
    "        ( 'smote' , SMOTE(random_state=42)),\n",
    "        ('RFC',  RandomForestClassifier(n_estimators=100, random_state=42))])\n",
    "\n",
    "\n",
    "model_for_feature_importance.fit(X_train, Y_train)\n",
    "\n",
    "# Extract feature importances from the Random Forest inside the pipeline\n",
    "importances = model_for_feature_importance.named_steps['RFC'].feature_importances_\n",
    "feature_names = model_for_feature_importance.named_steps['preprocessor'].get_feature_names_out()\n",
    "\n",
    "# Create a DataFrame to display and sort feature importances\n",
    "feature_importance_df = pd.DataFrame({\n",
    "    'feature': feature_names,\n",
    "    'importance': importances\n",
    "}).sort_values(by='importance', ascending=False)\n",
    "\n",
    "# Plotting feature importances\n",
    "plt.figure(figsize=(10,6))\n",
    "sns.barplot(data=feature_importance_df, x='importance', y='feature')\n",
    "plt.title('Feature Importances from Random Forest')\n",
    "plt.show()\n"
   ]
  },
  {
   "cell_type": "markdown",
   "id": "5e612521",
   "metadata": {},
   "source": [
    "# **save the model**"
   ]
  },
  {
   "cell_type": "code",
   "execution_count": 115,
   "id": "0051a6d8",
   "metadata": {},
   "outputs": [
    {
     "name": "stdout",
     "output_type": "stream",
     "text": [
      "Fitting 3 folds for each of 2 candidates, totalling 6 fits\n",
      "Train Accuracy: 0.9733662074798239\n",
      "fi score 0.6673827425707125\n",
      "Precision: 0.9936034115138592\n",
      "Recall: 0.5024258760107817\n",
      "test score 0.971274582879422\n"
     ]
    },
    {
     "data": {
      "image/png": "[encoded data removed]",
      "text/plain": [
       "<Figure size 640x480 with 2 Axes>"
      ]
     },
     "metadata": {},
     "output_type": "display_data"
    }
   ],
   "source": [
    "# Re-training the model on the full training data before saving.\n",
    "# The previous training inside the cross-validation loop was only for performance evaluation (validation accuracy),\n",
    "# and the model gets overwritten in each fold. This step ensures we save a final model trained on all available data.\n",
    "\n",
    "Stacking_model.fit(X_train, Y_train)\n",
    "y_trin_pred = Stacking_model.predict(X_train)\n",
    "Train_Accuracy = accuracy_score(Y_train, y_trin_pred)\n",
    "print(f\"Train Accuracy: {Train_Accuracy}\") \n",
    "\n",
    "\n",
    "train_f1 = f1_score(Y_train, y_trin_pred) \n",
    "print(f\"fi score {train_f1}\")\n",
    "\n",
    "\n",
    "train_precision = precision_score(Y_train, y_trin_pred)\n",
    "train_recall = recall_score(Y_train, y_trin_pred)\n",
    "\n",
    "\n",
    "print(f\"Precision: {train_precision}\")\n",
    "print(f\"Recall: {train_recall}\")\n",
    "\n",
    "\n",
    "y_test_pred = Stacking_model.predict(X_test)\n",
    "print(f\"test score {accuracy_score(Y_test, y_test_pred)}\")\n",
    "\n",
    "\n",
    "from sklearn.metrics import ConfusionMatrixDisplay \n",
    "# Confusion Matrix for Training Data\n",
    "cm_train = confusion_matrix(Y_train, y_trin_pred)\n",
    "disp_train = ConfusionMatrixDisplay(confusion_matrix=cm_train)\n",
    "disp_train.plot(cmap='Blues')\n",
    "plt.title(\"Confusion Matrix - Training Data\")\n",
    "plt.show()"
   ]
  },
  {
   "cell_type": "code",
   "execution_count": 128,
   "id": "b0baec59",
   "metadata": {},
   "outputs": [
    {
     "name": "stdout",
     "output_type": "stream",
     "text": [
      "Train Accuracy: 0.9612104184286349\n",
      "fi score 0.6417791898332009\n",
      "Precision: 0.6305931321540063\n",
      "Recall: 0.6533692722371968\n",
      "test score 0.9693251533742331\n"
     ]
    },
    {
     "data": {
      "image/png": "[encoded data removed]",
      "text/plain": [
       "<Figure size 640x480 with 2 Axes>"
      ]
     },
     "metadata": {},
     "output_type": "display_data"
    }
   ],
   "source": [
    "y_probs = Stacking_model.predict_proba(X_train)[:, 1]\n",
    "threshold = 0.2\n",
    "y_pred = (y_probs >= threshold).astype(int)\n",
    "\n",
    "\n",
    "Train_Accuracy = accuracy_score(Y_train, y_pred)\n",
    "print(f\"Train Accuracy: {Train_Accuracy}\") \n",
    "\n",
    "\n",
    "train_f1 = f1_score(Y_train, y_pred) \n",
    "print(f\"fi score {train_f1}\")\n",
    "\n",
    "\n",
    "train_precision = precision_score(Y_train, y_pred)\n",
    "train_recall = recall_score(Y_train, y_pred)\n",
    "\n",
    "\n",
    "print(f\"Precision: {train_precision}\")\n",
    "print(f\"Recall: {train_recall}\")\n",
    "\n",
    "\n",
    "\n",
    "y_test_probs = Stacking_model.predict_proba(X_test)[:, 1]\n",
    "threshold = 0.3\n",
    "y_test_probs = (y_test_probs >= threshold).astype(int)\n",
    "print(f\"test score {accuracy_score(Y_test, y_test_probs)}\")\n",
    "\n",
    "from sklearn.metrics import ConfusionMatrixDisplay \n",
    "# Confusion Matrix for Training Data\n",
    "cm_train = confusion_matrix(Y_train, y_pred)\n",
    "disp_train = ConfusionMatrixDisplay(confusion_matrix=cm_train)\n",
    "disp_train.plot(cmap='Blues')\n",
    "plt.title(\"Confusion Matrix - Training Data\")\n",
    "plt.show()"
   ]
  },
  {
   "cell_type": "code",
   "execution_count": 131,
   "id": "50947146",
   "metadata": {},
   "outputs": [
    {
     "name": "stdout",
     "output_type": "stream",
     "text": [
      "Train Accuracy: 0.8978436657681941\n",
      "fi score 0.8980908846464103\n",
      "Precision: 0.8959227467811158\n",
      "Recall: 0.9002695417789758\n"
     ]
    },
    {
     "data": {
      "image/png": "[encoded data removed]",
      "text/plain": [
       "<Figure size 640x480 with 2 Axes>"
      ]
     },
     "metadata": {},
     "output_type": "display_data"
    }
   ],
   "source": [
    "undersampler = RandomUnderSampler(random_state=42)\n",
    "\n",
    "X_train_resampled, y_train_resampled = undersampler.fit_resample(X_train, Y_train)\n",
    "\n",
    "\n",
    "\n",
    "\n",
    "y_probs = Stacking_model.predict_proba(X_train_resampled)[:, 1]\n",
    "threshold = 0.1\n",
    "y_pred = (y_probs >= threshold).astype(int)\n",
    "\n",
    "Train_Accuracy = accuracy_score(y_train_resampled, y_pred)\n",
    "print(f\"Train Accuracy: {Train_Accuracy}\") \n",
    "\n",
    "train_f1 = f1_score(y_train_resampled, y_pred) \n",
    "print(f\"fi score {train_f1}\")\n",
    "\n",
    "\n",
    "train_precision = precision_score(y_train_resampled, y_pred)\n",
    "train_recall = recall_score(y_train_resampled, y_pred)\n",
    "\n",
    "\n",
    "print(f\"Precision: {train_precision}\")\n",
    "print(f\"Recall: {train_recall}\")\n",
    "\n",
    "from sklearn.metrics import ConfusionMatrixDisplay \n",
    "# Confusion Matrix for Training Data\n",
    "cm_train = confusion_matrix(y_train_resampled, y_pred)\n",
    "disp_train = ConfusionMatrixDisplay(confusion_matrix=cm_train)\n",
    "disp_train.plot(cmap='Blues')\n",
    "plt.title(\"Confusion Matrix - Training Data\")\n",
    "plt.show()"
   ]
  },
  {
   "cell_type": "code",
   "execution_count": 132,
   "id": "f7ef8368",
   "metadata": {},
   "outputs": [
    {
     "data": {
      "text/plain": [
       "['final_model.pkl']"
      ]
     },
     "execution_count": 132,
     "metadata": {},
     "output_type": "execute_result"
    }
   ],
   "source": [
    "# the threshold = 0.3 \n",
    "\n",
    "joblib.dump(Stacking_model, 'final_model.pkl')"
   ]
  }
 ],
 "metadata": {
  "kernelspec": {
   "display_name": "eda_px_st_env",
   "language": "python",
   "name": "python3"
  },
  "language_info": {
   "codemirror_mode": {
    "name": "ipython",
    "version": 3
   },
   "file_extension": ".py",
   "mimetype": "text/x-python",
   "name": "python",
   "nbconvert_exporter": "python",
   "pygments_lexer": "ipython3",
   "version": "3.10.15"
  }
 },
 "nbformat": 4,
 "nbformat_minor": 5
}
